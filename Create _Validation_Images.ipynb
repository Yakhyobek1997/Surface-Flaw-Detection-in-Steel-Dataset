{
 "cells": [
  {
   "cell_type": "code",
   "execution_count": 1,
   "id": "aquatic-detection",
   "metadata": {},
   "outputs": [],
   "source": [
    "from Data_Extraction_Visualization import XMLExtraction\n",
    "import shutil, os\n",
    "import pandas as pd"
   ]
  },
  {
   "cell_type": "code",
   "execution_count": 2,
   "id": "breathing-consumer",
   "metadata": {},
   "outputs": [],
   "source": [
    "my_path = '.\\ANNOTATIONS'\n",
    "XML_obj = XMLExtraction(my_path)\n",
    "data = XML_obj.df"
   ]
  },
  {
   "cell_type": "code",
   "execution_count": 3,
   "id": "helpful-subdivision",
   "metadata": {},
   "outputs": [],
   "source": [
    "ls = data.label.unique()"
   ]
  },
  {
   "cell_type": "code",
   "execution_count": 4,
   "id": "superior-appreciation",
   "metadata": {},
   "outputs": [],
   "source": [
    "for ele in ls:\n",
    "    temp_im = []\n",
    "    temp_an = []\n",
    "    temp_df = data[data['label'] == ele].sample(n=5)\n",
    "    temp_im = temp_df['image_path'].tolist()\n",
    "    temp_an = temp_df['annotation_path'].tolist()\n",
    "    for i,a in zip(temp_im, temp_an):\n",
    "        shutil.move(i, 'Validation_Images')\n",
    "        shutil.move(a, 'Validation_Annotations')"
   ]
  },
  {
   "cell_type": "code",
   "execution_count": null,
   "id": "modular-orbit",
   "metadata": {},
   "outputs": [],
   "source": []
  }
 ],
 "metadata": {
  "kernelspec": {
   "display_name": "Python 3",
   "language": "python",
   "name": "python3"
  },
  "language_info": {
   "codemirror_mode": {
    "name": "ipython",
    "version": 3
   },
   "file_extension": ".py",
   "mimetype": "text/x-python",
   "name": "python",
   "nbconvert_exporter": "python",
   "pygments_lexer": "ipython3",
   "version": "3.7.3"
  }
 },
 "nbformat": 4,
 "nbformat_minor": 5
}
