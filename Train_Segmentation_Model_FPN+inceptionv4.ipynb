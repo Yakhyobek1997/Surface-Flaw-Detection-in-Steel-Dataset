{
 "cells": [
  {
   "cell_type": "markdown",
   "id": "790dec7b",
   "metadata": {},
   "source": [
    "# IMPORTS\n",
    "\n",
    "First we started with some python imports. For model building we used the <mark>**segmentation_models_pytorch library**</mark>. This has library has a lot segmentation model architechtures. Before you can import the library it needs to be ensured that the library is installed in the conda environment. For this in the anaconda terminal just type the below command to install the library:-\n",
    "\n",
    "<div class=\"alert alert-block alert-success\">\n",
    "<b>Conda Command:</b> conda install -q segmentation-models-pytorch\n",
    "</div>\n",
    "\n",
    "Once, the libray is installed it can be imported in the script safely. We also imported the utility script Trainer for model training."
   ]
  },
  {
   "cell_type": "code",
   "execution_count": 1,
   "id": "82452039",
   "metadata": {},
   "outputs": [],
   "source": [
    "import pandas as pd\n",
    "import numpy as np\n",
    "import segmentation_models_pytorch as smp\n",
    "from Utilities.Trainer import Trainer\n",
    "import torch\n",
    "import torch.nn as nn\n",
    "from torchvision import models\n",
    "import torch.multiprocessing as mp\n",
    "import matplotlib.pyplot as plt\n",
    "%matplotlib inline"
   ]
  },
  {
   "cell_type": "markdown",
   "id": "69ec7cbf",
   "metadata": {},
   "source": [
    "The below statement helps in better error tracking when training is done in cuda. More details about this can be found in the below url:-\n",
    "\n",
    "https://pytorch.org/docs/stable/notes/cuda.html"
   ]
  },
  {
   "cell_type": "code",
   "execution_count": 2,
   "id": "73740900",
   "metadata": {},
   "outputs": [],
   "source": [
    "CUDA_LAUNCH_BLOCKING=\"1\""
   ]
  },
  {
   "cell_type": "markdown",
   "id": "5a6a5342",
   "metadata": {},
   "source": [
    "# Model Building\n",
    "\n",
    "Next a FPN model with inceptionv3 encoder was created with imagenet weights from the smp library."
   ]
  },
  {
   "cell_type": "code",
   "execution_count": 3,
   "id": "04921d03",
   "metadata": {},
   "outputs": [
    {
     "name": "stdout",
     "output_type": "stream",
     "text": [
      "FPN(\n",
      "  (encoder): InceptionV4Encoder(\n",
      "    (features): Sequential(\n",
      "      (0): BasicConv2d(\n",
      "        (conv): Conv2d(3, 32, kernel_size=(3, 3), stride=(2, 2), padding=(1, 1), bias=False)\n",
      "        (bn): BatchNorm2d(32, eps=0.001, momentum=0.1, affine=True, track_running_stats=True)\n",
      "        (relu): ReLU(inplace=True)\n",
      "      )\n",
      "      (1): BasicConv2d(\n",
      "        (conv): Conv2d(32, 32, kernel_size=(3, 3), stride=(1, 1), padding=(1, 1), bias=False)\n",
      "        (bn): BatchNorm2d(32, eps=0.001, momentum=0.1, affine=True, track_running_stats=True)\n",
      "        (relu): ReLU(inplace=True)\n",
      "      )\n",
      "      (2): BasicConv2d(\n",
      "        (conv): Conv2d(32, 64, kernel_size=(3, 3), stride=(1, 1), padding=(1, 1), bias=False)\n",
      "        (bn): BatchNorm2d(64, eps=0.001, momentum=0.1, affine=True, track_running_stats=True)\n",
      "        (relu): ReLU(inplace=True)\n",
      "      )\n",
      "      (3): Mixed_3a(\n",
      "        (maxpool): MaxPool2d(kernel_size=3, stride=2, padding=(1, 1), dilation=1, ceil_mode=False)\n",
      "        (conv): BasicConv2d(\n",
      "          (conv): Conv2d(64, 96, kernel_size=(3, 3), stride=(2, 2), padding=(1, 1), bias=False)\n",
      "          (bn): BatchNorm2d(96, eps=0.001, momentum=0.1, affine=True, track_running_stats=True)\n",
      "          (relu): ReLU(inplace=True)\n",
      "        )\n",
      "      )\n",
      "      (4): Mixed_4a(\n",
      "        (branch0): Sequential(\n",
      "          (0): BasicConv2d(\n",
      "            (conv): Conv2d(160, 64, kernel_size=(1, 1), stride=(1, 1), bias=False)\n",
      "            (bn): BatchNorm2d(64, eps=0.001, momentum=0.1, affine=True, track_running_stats=True)\n",
      "            (relu): ReLU(inplace=True)\n",
      "          )\n",
      "          (1): BasicConv2d(\n",
      "            (conv): Conv2d(64, 96, kernel_size=(3, 3), stride=(1, 1), padding=(1, 1), bias=False)\n",
      "            (bn): BatchNorm2d(96, eps=0.001, momentum=0.1, affine=True, track_running_stats=True)\n",
      "            (relu): ReLU(inplace=True)\n",
      "          )\n",
      "        )\n",
      "        (branch1): Sequential(\n",
      "          (0): BasicConv2d(\n",
      "            (conv): Conv2d(160, 64, kernel_size=(1, 1), stride=(1, 1), bias=False)\n",
      "            (bn): BatchNorm2d(64, eps=0.001, momentum=0.1, affine=True, track_running_stats=True)\n",
      "            (relu): ReLU(inplace=True)\n",
      "          )\n",
      "          (1): BasicConv2d(\n",
      "            (conv): Conv2d(64, 64, kernel_size=(1, 7), stride=(1, 1), padding=(0, 3), bias=False)\n",
      "            (bn): BatchNorm2d(64, eps=0.001, momentum=0.1, affine=True, track_running_stats=True)\n",
      "            (relu): ReLU(inplace=True)\n",
      "          )\n",
      "          (2): BasicConv2d(\n",
      "            (conv): Conv2d(64, 64, kernel_size=(7, 1), stride=(1, 1), padding=(3, 0), bias=False)\n",
      "            (bn): BatchNorm2d(64, eps=0.001, momentum=0.1, affine=True, track_running_stats=True)\n",
      "            (relu): ReLU(inplace=True)\n",
      "          )\n",
      "          (3): BasicConv2d(\n",
      "            (conv): Conv2d(64, 96, kernel_size=(3, 3), stride=(1, 1), padding=(1, 1), bias=False)\n",
      "            (bn): BatchNorm2d(96, eps=0.001, momentum=0.1, affine=True, track_running_stats=True)\n",
      "            (relu): ReLU(inplace=True)\n",
      "          )\n",
      "        )\n",
      "      )\n",
      "      (5): Mixed_5a(\n",
      "        (conv): BasicConv2d(\n",
      "          (conv): Conv2d(192, 192, kernel_size=(3, 3), stride=(2, 2), padding=(1, 1), bias=False)\n",
      "          (bn): BatchNorm2d(192, eps=0.001, momentum=0.1, affine=True, track_running_stats=True)\n",
      "          (relu): ReLU(inplace=True)\n",
      "        )\n",
      "        (maxpool): MaxPool2d(kernel_size=3, stride=2, padding=(1, 1), dilation=1, ceil_mode=False)\n",
      "      )\n",
      "      (6): Inception_A(\n",
      "        (branch0): BasicConv2d(\n",
      "          (conv): Conv2d(384, 96, kernel_size=(1, 1), stride=(1, 1), bias=False)\n",
      "          (bn): BatchNorm2d(96, eps=0.001, momentum=0.1, affine=True, track_running_stats=True)\n",
      "          (relu): ReLU(inplace=True)\n",
      "        )\n",
      "        (branch1): Sequential(\n",
      "          (0): BasicConv2d(\n",
      "            (conv): Conv2d(384, 64, kernel_size=(1, 1), stride=(1, 1), bias=False)\n",
      "            (bn): BatchNorm2d(64, eps=0.001, momentum=0.1, affine=True, track_running_stats=True)\n",
      "            (relu): ReLU(inplace=True)\n",
      "          )\n",
      "          (1): BasicConv2d(\n",
      "            (conv): Conv2d(64, 96, kernel_size=(3, 3), stride=(1, 1), padding=(1, 1), bias=False)\n",
      "            (bn): BatchNorm2d(96, eps=0.001, momentum=0.1, affine=True, track_running_stats=True)\n",
      "            (relu): ReLU(inplace=True)\n",
      "          )\n",
      "        )\n",
      "        (branch2): Sequential(\n",
      "          (0): BasicConv2d(\n",
      "            (conv): Conv2d(384, 64, kernel_size=(1, 1), stride=(1, 1), bias=False)\n",
      "            (bn): BatchNorm2d(64, eps=0.001, momentum=0.1, affine=True, track_running_stats=True)\n",
      "            (relu): ReLU(inplace=True)\n",
      "          )\n",
      "          (1): BasicConv2d(\n",
      "            (conv): Conv2d(64, 96, kernel_size=(3, 3), stride=(1, 1), padding=(1, 1), bias=False)\n",
      "            (bn): BatchNorm2d(96, eps=0.001, momentum=0.1, affine=True, track_running_stats=True)\n",
      "            (relu): ReLU(inplace=True)\n",
      "          )\n",
      "          (2): BasicConv2d(\n",
      "            (conv): Conv2d(96, 96, kernel_size=(3, 3), stride=(1, 1), padding=(1, 1), bias=False)\n",
      "            (bn): BatchNorm2d(96, eps=0.001, momentum=0.1, affine=True, track_running_stats=True)\n",
      "            (relu): ReLU(inplace=True)\n",
      "          )\n",
      "        )\n",
      "        (branch3): Sequential(\n",
      "          (0): AvgPool2d(kernel_size=3, stride=1, padding=1)\n",
      "          (1): BasicConv2d(\n",
      "            (conv): Conv2d(384, 96, kernel_size=(1, 1), stride=(1, 1), bias=False)\n",
      "            (bn): BatchNorm2d(96, eps=0.001, momentum=0.1, affine=True, track_running_stats=True)\n",
      "            (relu): ReLU(inplace=True)\n",
      "          )\n",
      "        )\n",
      "      )\n",
      "      (7): Inception_A(\n",
      "        (branch0): BasicConv2d(\n",
      "          (conv): Conv2d(384, 96, kernel_size=(1, 1), stride=(1, 1), bias=False)\n",
      "          (bn): BatchNorm2d(96, eps=0.001, momentum=0.1, affine=True, track_running_stats=True)\n",
      "          (relu): ReLU(inplace=True)\n",
      "        )\n",
      "        (branch1): Sequential(\n",
      "          (0): BasicConv2d(\n",
      "            (conv): Conv2d(384, 64, kernel_size=(1, 1), stride=(1, 1), bias=False)\n",
      "            (bn): BatchNorm2d(64, eps=0.001, momentum=0.1, affine=True, track_running_stats=True)\n",
      "            (relu): ReLU(inplace=True)\n",
      "          )\n",
      "          (1): BasicConv2d(\n",
      "            (conv): Conv2d(64, 96, kernel_size=(3, 3), stride=(1, 1), padding=(1, 1), bias=False)\n",
      "            (bn): BatchNorm2d(96, eps=0.001, momentum=0.1, affine=True, track_running_stats=True)\n",
      "            (relu): ReLU(inplace=True)\n",
      "          )\n",
      "        )\n",
      "        (branch2): Sequential(\n",
      "          (0): BasicConv2d(\n",
      "            (conv): Conv2d(384, 64, kernel_size=(1, 1), stride=(1, 1), bias=False)\n",
      "            (bn): BatchNorm2d(64, eps=0.001, momentum=0.1, affine=True, track_running_stats=True)\n",
      "            (relu): ReLU(inplace=True)\n",
      "          )\n",
      "          (1): BasicConv2d(\n",
      "            (conv): Conv2d(64, 96, kernel_size=(3, 3), stride=(1, 1), padding=(1, 1), bias=False)\n",
      "            (bn): BatchNorm2d(96, eps=0.001, momentum=0.1, affine=True, track_running_stats=True)\n",
      "            (relu): ReLU(inplace=True)\n",
      "          )\n",
      "          (2): BasicConv2d(\n",
      "            (conv): Conv2d(96, 96, kernel_size=(3, 3), stride=(1, 1), padding=(1, 1), bias=False)\n",
      "            (bn): BatchNorm2d(96, eps=0.001, momentum=0.1, affine=True, track_running_stats=True)\n",
      "            (relu): ReLU(inplace=True)\n",
      "          )\n",
      "        )\n",
      "        (branch3): Sequential(\n",
      "          (0): AvgPool2d(kernel_size=3, stride=1, padding=1)\n",
      "          (1): BasicConv2d(\n",
      "            (conv): Conv2d(384, 96, kernel_size=(1, 1), stride=(1, 1), bias=False)\n",
      "            (bn): BatchNorm2d(96, eps=0.001, momentum=0.1, affine=True, track_running_stats=True)\n",
      "            (relu): ReLU(inplace=True)\n",
      "          )\n",
      "        )\n",
      "      )\n",
      "      (8): Inception_A(\n",
      "        (branch0): BasicConv2d(\n",
      "          (conv): Conv2d(384, 96, kernel_size=(1, 1), stride=(1, 1), bias=False)\n",
      "          (bn): BatchNorm2d(96, eps=0.001, momentum=0.1, affine=True, track_running_stats=True)\n",
      "          (relu): ReLU(inplace=True)\n",
      "        )\n",
      "        (branch1): Sequential(\n",
      "          (0): BasicConv2d(\n",
      "            (conv): Conv2d(384, 64, kernel_size=(1, 1), stride=(1, 1), bias=False)\n",
      "            (bn): BatchNorm2d(64, eps=0.001, momentum=0.1, affine=True, track_running_stats=True)\n",
      "            (relu): ReLU(inplace=True)\n",
      "          )\n",
      "          (1): BasicConv2d(\n",
      "            (conv): Conv2d(64, 96, kernel_size=(3, 3), stride=(1, 1), padding=(1, 1), bias=False)\n",
      "            (bn): BatchNorm2d(96, eps=0.001, momentum=0.1, affine=True, track_running_stats=True)\n",
      "            (relu): ReLU(inplace=True)\n",
      "          )\n",
      "        )\n",
      "        (branch2): Sequential(\n",
      "          (0): BasicConv2d(\n",
      "            (conv): Conv2d(384, 64, kernel_size=(1, 1), stride=(1, 1), bias=False)\n",
      "            (bn): BatchNorm2d(64, eps=0.001, momentum=0.1, affine=True, track_running_stats=True)\n",
      "            (relu): ReLU(inplace=True)\n",
      "          )\n",
      "          (1): BasicConv2d(\n",
      "            (conv): Conv2d(64, 96, kernel_size=(3, 3), stride=(1, 1), padding=(1, 1), bias=False)\n",
      "            (bn): BatchNorm2d(96, eps=0.001, momentum=0.1, affine=True, track_running_stats=True)\n",
      "            (relu): ReLU(inplace=True)\n",
      "          )\n",
      "          (2): BasicConv2d(\n",
      "            (conv): Conv2d(96, 96, kernel_size=(3, 3), stride=(1, 1), padding=(1, 1), bias=False)\n",
      "            (bn): BatchNorm2d(96, eps=0.001, momentum=0.1, affine=True, track_running_stats=True)\n",
      "            (relu): ReLU(inplace=True)\n",
      "          )\n",
      "        )\n",
      "        (branch3): Sequential(\n",
      "          (0): AvgPool2d(kernel_size=3, stride=1, padding=1)\n",
      "          (1): BasicConv2d(\n",
      "            (conv): Conv2d(384, 96, kernel_size=(1, 1), stride=(1, 1), bias=False)\n",
      "            (bn): BatchNorm2d(96, eps=0.001, momentum=0.1, affine=True, track_running_stats=True)\n",
      "            (relu): ReLU(inplace=True)\n",
      "          )\n",
      "        )\n",
      "      )\n",
      "      (9): Inception_A(\n",
      "        (branch0): BasicConv2d(\n",
      "          (conv): Conv2d(384, 96, kernel_size=(1, 1), stride=(1, 1), bias=False)\n",
      "          (bn): BatchNorm2d(96, eps=0.001, momentum=0.1, affine=True, track_running_stats=True)\n",
      "          (relu): ReLU(inplace=True)\n",
      "        )\n",
      "        (branch1): Sequential(\n",
      "          (0): BasicConv2d(\n",
      "            (conv): Conv2d(384, 64, kernel_size=(1, 1), stride=(1, 1), bias=False)\n",
      "            (bn): BatchNorm2d(64, eps=0.001, momentum=0.1, affine=True, track_running_stats=True)\n",
      "            (relu): ReLU(inplace=True)\n",
      "          )\n",
      "          (1): BasicConv2d(\n",
      "            (conv): Conv2d(64, 96, kernel_size=(3, 3), stride=(1, 1), padding=(1, 1), bias=False)\n",
      "            (bn): BatchNorm2d(96, eps=0.001, momentum=0.1, affine=True, track_running_stats=True)\n",
      "            (relu): ReLU(inplace=True)\n",
      "          )\n",
      "        )\n",
      "        (branch2): Sequential(\n",
      "          (0): BasicConv2d(\n",
      "            (conv): Conv2d(384, 64, kernel_size=(1, 1), stride=(1, 1), bias=False)\n",
      "            (bn): BatchNorm2d(64, eps=0.001, momentum=0.1, affine=True, track_running_stats=True)\n",
      "            (relu): ReLU(inplace=True)\n",
      "          )\n",
      "          (1): BasicConv2d(\n",
      "            (conv): Conv2d(64, 96, kernel_size=(3, 3), stride=(1, 1), padding=(1, 1), bias=False)\n",
      "            (bn): BatchNorm2d(96, eps=0.001, momentum=0.1, affine=True, track_running_stats=True)\n",
      "            (relu): ReLU(inplace=True)\n",
      "          )\n",
      "          (2): BasicConv2d(\n",
      "            (conv): Conv2d(96, 96, kernel_size=(3, 3), stride=(1, 1), padding=(1, 1), bias=False)\n",
      "            (bn): BatchNorm2d(96, eps=0.001, momentum=0.1, affine=True, track_running_stats=True)\n",
      "            (relu): ReLU(inplace=True)\n",
      "          )\n",
      "        )\n",
      "        (branch3): Sequential(\n",
      "          (0): AvgPool2d(kernel_size=3, stride=1, padding=1)\n",
      "          (1): BasicConv2d(\n",
      "            (conv): Conv2d(384, 96, kernel_size=(1, 1), stride=(1, 1), bias=False)\n",
      "            (bn): BatchNorm2d(96, eps=0.001, momentum=0.1, affine=True, track_running_stats=True)\n",
      "            (relu): ReLU(inplace=True)\n",
      "          )\n",
      "        )\n",
      "      )\n",
      "      (10): Reduction_A(\n",
      "        (branch0): BasicConv2d(\n",
      "          (conv): Conv2d(384, 384, kernel_size=(3, 3), stride=(2, 2), padding=(1, 1), bias=False)\n",
      "          (bn): BatchNorm2d(384, eps=0.001, momentum=0.1, affine=True, track_running_stats=True)\n",
      "          (relu): ReLU(inplace=True)\n",
      "        )\n",
      "        (branch1): Sequential(\n",
      "          (0): BasicConv2d(\n",
      "            (conv): Conv2d(384, 192, kernel_size=(1, 1), stride=(1, 1), bias=False)\n",
      "            (bn): BatchNorm2d(192, eps=0.001, momentum=0.1, affine=True, track_running_stats=True)\n",
      "            (relu): ReLU(inplace=True)\n",
      "          )\n",
      "          (1): BasicConv2d(\n",
      "            (conv): Conv2d(192, 224, kernel_size=(3, 3), stride=(1, 1), padding=(1, 1), bias=False)\n",
      "            (bn): BatchNorm2d(224, eps=0.001, momentum=0.1, affine=True, track_running_stats=True)\n",
      "            (relu): ReLU(inplace=True)\n",
      "          )\n",
      "          (2): BasicConv2d(\n",
      "            (conv): Conv2d(224, 256, kernel_size=(3, 3), stride=(2, 2), padding=(1, 1), bias=False)\n",
      "            (bn): BatchNorm2d(256, eps=0.001, momentum=0.1, affine=True, track_running_stats=True)\n",
      "            (relu): ReLU(inplace=True)\n",
      "          )\n",
      "        )\n",
      "        (branch2): MaxPool2d(kernel_size=3, stride=2, padding=(1, 1), dilation=1, ceil_mode=False)\n",
      "      )\n",
      "      (11): Inception_B(\n",
      "        (branch0): BasicConv2d(\n",
      "          (conv): Conv2d(1024, 384, kernel_size=(1, 1), stride=(1, 1), bias=False)\n",
      "          (bn): BatchNorm2d(384, eps=0.001, momentum=0.1, affine=True, track_running_stats=True)\n",
      "          (relu): ReLU(inplace=True)\n",
      "        )\n",
      "        (branch1): Sequential(\n",
      "          (0): BasicConv2d(\n",
      "            (conv): Conv2d(1024, 192, kernel_size=(1, 1), stride=(1, 1), bias=False)\n",
      "            (bn): BatchNorm2d(192, eps=0.001, momentum=0.1, affine=True, track_running_stats=True)\n",
      "            (relu): ReLU(inplace=True)\n",
      "          )\n",
      "          (1): BasicConv2d(\n",
      "            (conv): Conv2d(192, 224, kernel_size=(1, 7), stride=(1, 1), padding=(0, 3), bias=False)\n",
      "            (bn): BatchNorm2d(224, eps=0.001, momentum=0.1, affine=True, track_running_stats=True)\n",
      "            (relu): ReLU(inplace=True)\n",
      "          )\n",
      "          (2): BasicConv2d(\n",
      "            (conv): Conv2d(224, 256, kernel_size=(7, 1), stride=(1, 1), padding=(3, 0), bias=False)\n",
      "            (bn): BatchNorm2d(256, eps=0.001, momentum=0.1, affine=True, track_running_stats=True)\n",
      "            (relu): ReLU(inplace=True)\n",
      "          )\n",
      "        )\n",
      "        (branch2): Sequential(\n",
      "          (0): BasicConv2d(\n",
      "            (conv): Conv2d(1024, 192, kernel_size=(1, 1), stride=(1, 1), bias=False)\n",
      "            (bn): BatchNorm2d(192, eps=0.001, momentum=0.1, affine=True, track_running_stats=True)\n",
      "            (relu): ReLU(inplace=True)\n",
      "          )\n",
      "          (1): BasicConv2d(\n",
      "            (conv): Conv2d(192, 192, kernel_size=(7, 1), stride=(1, 1), padding=(3, 0), bias=False)\n",
      "            (bn): BatchNorm2d(192, eps=0.001, momentum=0.1, affine=True, track_running_stats=True)\n",
      "            (relu): ReLU(inplace=True)\n",
      "          )\n",
      "          (2): BasicConv2d(\n",
      "            (conv): Conv2d(192, 224, kernel_size=(1, 7), stride=(1, 1), padding=(0, 3), bias=False)\n",
      "            (bn): BatchNorm2d(224, eps=0.001, momentum=0.1, affine=True, track_running_stats=True)\n",
      "            (relu): ReLU(inplace=True)\n",
      "          )\n",
      "          (3): BasicConv2d(\n",
      "            (conv): Conv2d(224, 224, kernel_size=(7, 1), stride=(1, 1), padding=(3, 0), bias=False)\n",
      "            (bn): BatchNorm2d(224, eps=0.001, momentum=0.1, affine=True, track_running_stats=True)\n",
      "            (relu): ReLU(inplace=True)\n",
      "          )\n",
      "          (4): BasicConv2d(\n",
      "            (conv): Conv2d(224, 256, kernel_size=(1, 7), stride=(1, 1), padding=(0, 3), bias=False)\n",
      "            (bn): BatchNorm2d(256, eps=0.001, momentum=0.1, affine=True, track_running_stats=True)\n",
      "            (relu): ReLU(inplace=True)\n",
      "          )\n",
      "        )\n",
      "        (branch3): Sequential(\n",
      "          (0): AvgPool2d(kernel_size=3, stride=1, padding=1)\n",
      "          (1): BasicConv2d(\n",
      "            (conv): Conv2d(1024, 128, kernel_size=(1, 1), stride=(1, 1), bias=False)\n",
      "            (bn): BatchNorm2d(128, eps=0.001, momentum=0.1, affine=True, track_running_stats=True)\n",
      "            (relu): ReLU(inplace=True)\n",
      "          )\n",
      "        )\n",
      "      )\n",
      "      (12): Inception_B(\n",
      "        (branch0): BasicConv2d(\n",
      "          (conv): Conv2d(1024, 384, kernel_size=(1, 1), stride=(1, 1), bias=False)\n",
      "          (bn): BatchNorm2d(384, eps=0.001, momentum=0.1, affine=True, track_running_stats=True)\n",
      "          (relu): ReLU(inplace=True)\n",
      "        )\n",
      "        (branch1): Sequential(\n",
      "          (0): BasicConv2d(\n",
      "            (conv): Conv2d(1024, 192, kernel_size=(1, 1), stride=(1, 1), bias=False)\n",
      "            (bn): BatchNorm2d(192, eps=0.001, momentum=0.1, affine=True, track_running_stats=True)\n",
      "            (relu): ReLU(inplace=True)\n",
      "          )\n",
      "          (1): BasicConv2d(\n",
      "            (conv): Conv2d(192, 224, kernel_size=(1, 7), stride=(1, 1), padding=(0, 3), bias=False)\n",
      "            (bn): BatchNorm2d(224, eps=0.001, momentum=0.1, affine=True, track_running_stats=True)\n",
      "            (relu): ReLU(inplace=True)\n",
      "          )\n",
      "          (2): BasicConv2d(\n",
      "            (conv): Conv2d(224, 256, kernel_size=(7, 1), stride=(1, 1), padding=(3, 0), bias=False)\n",
      "            (bn): BatchNorm2d(256, eps=0.001, momentum=0.1, affine=True, track_running_stats=True)\n",
      "            (relu): ReLU(inplace=True)\n",
      "          )\n",
      "        )\n",
      "        (branch2): Sequential(\n",
      "          (0): BasicConv2d(\n",
      "            (conv): Conv2d(1024, 192, kernel_size=(1, 1), stride=(1, 1), bias=False)\n",
      "            (bn): BatchNorm2d(192, eps=0.001, momentum=0.1, affine=True, track_running_stats=True)\n",
      "            (relu): ReLU(inplace=True)\n",
      "          )\n",
      "          (1): BasicConv2d(\n",
      "            (conv): Conv2d(192, 192, kernel_size=(7, 1), stride=(1, 1), padding=(3, 0), bias=False)\n",
      "            (bn): BatchNorm2d(192, eps=0.001, momentum=0.1, affine=True, track_running_stats=True)\n",
      "            (relu): ReLU(inplace=True)\n",
      "          )\n",
      "          (2): BasicConv2d(\n",
      "            (conv): Conv2d(192, 224, kernel_size=(1, 7), stride=(1, 1), padding=(0, 3), bias=False)\n",
      "            (bn): BatchNorm2d(224, eps=0.001, momentum=0.1, affine=True, track_running_stats=True)\n",
      "            (relu): ReLU(inplace=True)\n",
      "          )\n",
      "          (3): BasicConv2d(\n",
      "            (conv): Conv2d(224, 224, kernel_size=(7, 1), stride=(1, 1), padding=(3, 0), bias=False)\n",
      "            (bn): BatchNorm2d(224, eps=0.001, momentum=0.1, affine=True, track_running_stats=True)\n",
      "            (relu): ReLU(inplace=True)\n",
      "          )\n",
      "          (4): BasicConv2d(\n",
      "            (conv): Conv2d(224, 256, kernel_size=(1, 7), stride=(1, 1), padding=(0, 3), bias=False)\n",
      "            (bn): BatchNorm2d(256, eps=0.001, momentum=0.1, affine=True, track_running_stats=True)\n",
      "            (relu): ReLU(inplace=True)\n",
      "          )\n",
      "        )\n",
      "        (branch3): Sequential(\n",
      "          (0): AvgPool2d(kernel_size=3, stride=1, padding=1)\n",
      "          (1): BasicConv2d(\n",
      "            (conv): Conv2d(1024, 128, kernel_size=(1, 1), stride=(1, 1), bias=False)\n",
      "            (bn): BatchNorm2d(128, eps=0.001, momentum=0.1, affine=True, track_running_stats=True)\n",
      "            (relu): ReLU(inplace=True)\n",
      "          )\n",
      "        )\n",
      "      )\n",
      "      (13): Inception_B(\n",
      "        (branch0): BasicConv2d(\n",
      "          (conv): Conv2d(1024, 384, kernel_size=(1, 1), stride=(1, 1), bias=False)\n",
      "          (bn): BatchNorm2d(384, eps=0.001, momentum=0.1, affine=True, track_running_stats=True)\n",
      "          (relu): ReLU(inplace=True)\n",
      "        )\n",
      "        (branch1): Sequential(\n",
      "          (0): BasicConv2d(\n",
      "            (conv): Conv2d(1024, 192, kernel_size=(1, 1), stride=(1, 1), bias=False)\n",
      "            (bn): BatchNorm2d(192, eps=0.001, momentum=0.1, affine=True, track_running_stats=True)\n",
      "            (relu): ReLU(inplace=True)\n",
      "          )\n",
      "          (1): BasicConv2d(\n",
      "            (conv): Conv2d(192, 224, kernel_size=(1, 7), stride=(1, 1), padding=(0, 3), bias=False)\n",
      "            (bn): BatchNorm2d(224, eps=0.001, momentum=0.1, affine=True, track_running_stats=True)\n",
      "            (relu): ReLU(inplace=True)\n",
      "          )\n",
      "          (2): BasicConv2d(\n",
      "            (conv): Conv2d(224, 256, kernel_size=(7, 1), stride=(1, 1), padding=(3, 0), bias=False)\n",
      "            (bn): BatchNorm2d(256, eps=0.001, momentum=0.1, affine=True, track_running_stats=True)\n",
      "            (relu): ReLU(inplace=True)\n",
      "          )\n",
      "        )\n",
      "        (branch2): Sequential(\n",
      "          (0): BasicConv2d(\n",
      "            (conv): Conv2d(1024, 192, kernel_size=(1, 1), stride=(1, 1), bias=False)\n",
      "            (bn): BatchNorm2d(192, eps=0.001, momentum=0.1, affine=True, track_running_stats=True)\n",
      "            (relu): ReLU(inplace=True)\n",
      "          )\n",
      "          (1): BasicConv2d(\n",
      "            (conv): Conv2d(192, 192, kernel_size=(7, 1), stride=(1, 1), padding=(3, 0), bias=False)\n",
      "            (bn): BatchNorm2d(192, eps=0.001, momentum=0.1, affine=True, track_running_stats=True)\n",
      "            (relu): ReLU(inplace=True)\n",
      "          )\n",
      "          (2): BasicConv2d(\n",
      "            (conv): Conv2d(192, 224, kernel_size=(1, 7), stride=(1, 1), padding=(0, 3), bias=False)\n",
      "            (bn): BatchNorm2d(224, eps=0.001, momentum=0.1, affine=True, track_running_stats=True)\n",
      "            (relu): ReLU(inplace=True)\n",
      "          )\n",
      "          (3): BasicConv2d(\n",
      "            (conv): Conv2d(224, 224, kernel_size=(7, 1), stride=(1, 1), padding=(3, 0), bias=False)\n",
      "            (bn): BatchNorm2d(224, eps=0.001, momentum=0.1, affine=True, track_running_stats=True)\n",
      "            (relu): ReLU(inplace=True)\n",
      "          )\n",
      "          (4): BasicConv2d(\n",
      "            (conv): Conv2d(224, 256, kernel_size=(1, 7), stride=(1, 1), padding=(0, 3), bias=False)\n",
      "            (bn): BatchNorm2d(256, eps=0.001, momentum=0.1, affine=True, track_running_stats=True)\n",
      "            (relu): ReLU(inplace=True)\n",
      "          )\n",
      "        )\n",
      "        (branch3): Sequential(\n",
      "          (0): AvgPool2d(kernel_size=3, stride=1, padding=1)\n",
      "          (1): BasicConv2d(\n",
      "            (conv): Conv2d(1024, 128, kernel_size=(1, 1), stride=(1, 1), bias=False)\n",
      "            (bn): BatchNorm2d(128, eps=0.001, momentum=0.1, affine=True, track_running_stats=True)\n",
      "            (relu): ReLU(inplace=True)\n",
      "          )\n",
      "        )\n",
      "      )\n",
      "      (14): Inception_B(\n",
      "        (branch0): BasicConv2d(\n",
      "          (conv): Conv2d(1024, 384, kernel_size=(1, 1), stride=(1, 1), bias=False)\n",
      "          (bn): BatchNorm2d(384, eps=0.001, momentum=0.1, affine=True, track_running_stats=True)\n",
      "          (relu): ReLU(inplace=True)\n",
      "        )\n",
      "        (branch1): Sequential(\n",
      "          (0): BasicConv2d(\n",
      "            (conv): Conv2d(1024, 192, kernel_size=(1, 1), stride=(1, 1), bias=False)\n",
      "            (bn): BatchNorm2d(192, eps=0.001, momentum=0.1, affine=True, track_running_stats=True)\n",
      "            (relu): ReLU(inplace=True)\n",
      "          )\n",
      "          (1): BasicConv2d(\n",
      "            (conv): Conv2d(192, 224, kernel_size=(1, 7), stride=(1, 1), padding=(0, 3), bias=False)\n",
      "            (bn): BatchNorm2d(224, eps=0.001, momentum=0.1, affine=True, track_running_stats=True)\n",
      "            (relu): ReLU(inplace=True)\n",
      "          )\n",
      "          (2): BasicConv2d(\n",
      "            (conv): Conv2d(224, 256, kernel_size=(7, 1), stride=(1, 1), padding=(3, 0), bias=False)\n",
      "            (bn): BatchNorm2d(256, eps=0.001, momentum=0.1, affine=True, track_running_stats=True)\n",
      "            (relu): ReLU(inplace=True)\n",
      "          )\n",
      "        )\n",
      "        (branch2): Sequential(\n",
      "          (0): BasicConv2d(\n",
      "            (conv): Conv2d(1024, 192, kernel_size=(1, 1), stride=(1, 1), bias=False)\n",
      "            (bn): BatchNorm2d(192, eps=0.001, momentum=0.1, affine=True, track_running_stats=True)\n",
      "            (relu): ReLU(inplace=True)\n",
      "          )\n",
      "          (1): BasicConv2d(\n",
      "            (conv): Conv2d(192, 192, kernel_size=(7, 1), stride=(1, 1), padding=(3, 0), bias=False)\n",
      "            (bn): BatchNorm2d(192, eps=0.001, momentum=0.1, affine=True, track_running_stats=True)\n",
      "            (relu): ReLU(inplace=True)\n",
      "          )\n",
      "          (2): BasicConv2d(\n",
      "            (conv): Conv2d(192, 224, kernel_size=(1, 7), stride=(1, 1), padding=(0, 3), bias=False)\n",
      "            (bn): BatchNorm2d(224, eps=0.001, momentum=0.1, affine=True, track_running_stats=True)\n",
      "            (relu): ReLU(inplace=True)\n",
      "          )\n",
      "          (3): BasicConv2d(\n",
      "            (conv): Conv2d(224, 224, kernel_size=(7, 1), stride=(1, 1), padding=(3, 0), bias=False)\n",
      "            (bn): BatchNorm2d(224, eps=0.001, momentum=0.1, affine=True, track_running_stats=True)\n",
      "            (relu): ReLU(inplace=True)\n",
      "          )\n",
      "          (4): BasicConv2d(\n",
      "            (conv): Conv2d(224, 256, kernel_size=(1, 7), stride=(1, 1), padding=(0, 3), bias=False)\n",
      "            (bn): BatchNorm2d(256, eps=0.001, momentum=0.1, affine=True, track_running_stats=True)\n",
      "            (relu): ReLU(inplace=True)\n",
      "          )\n",
      "        )\n",
      "        (branch3): Sequential(\n",
      "          (0): AvgPool2d(kernel_size=3, stride=1, padding=1)\n",
      "          (1): BasicConv2d(\n",
      "            (conv): Conv2d(1024, 128, kernel_size=(1, 1), stride=(1, 1), bias=False)\n",
      "            (bn): BatchNorm2d(128, eps=0.001, momentum=0.1, affine=True, track_running_stats=True)\n",
      "            (relu): ReLU(inplace=True)\n",
      "          )\n",
      "        )\n",
      "      )\n",
      "      (15): Inception_B(\n",
      "        (branch0): BasicConv2d(\n",
      "          (conv): Conv2d(1024, 384, kernel_size=(1, 1), stride=(1, 1), bias=False)\n",
      "          (bn): BatchNorm2d(384, eps=0.001, momentum=0.1, affine=True, track_running_stats=True)\n",
      "          (relu): ReLU(inplace=True)\n",
      "        )\n",
      "        (branch1): Sequential(\n",
      "          (0): BasicConv2d(\n",
      "            (conv): Conv2d(1024, 192, kernel_size=(1, 1), stride=(1, 1), bias=False)\n",
      "            (bn): BatchNorm2d(192, eps=0.001, momentum=0.1, affine=True, track_running_stats=True)\n",
      "            (relu): ReLU(inplace=True)\n",
      "          )\n",
      "          (1): BasicConv2d(\n",
      "            (conv): Conv2d(192, 224, kernel_size=(1, 7), stride=(1, 1), padding=(0, 3), bias=False)\n",
      "            (bn): BatchNorm2d(224, eps=0.001, momentum=0.1, affine=True, track_running_stats=True)\n",
      "            (relu): ReLU(inplace=True)\n",
      "          )\n",
      "          (2): BasicConv2d(\n",
      "            (conv): Conv2d(224, 256, kernel_size=(7, 1), stride=(1, 1), padding=(3, 0), bias=False)\n",
      "            (bn): BatchNorm2d(256, eps=0.001, momentum=0.1, affine=True, track_running_stats=True)\n",
      "            (relu): ReLU(inplace=True)\n",
      "          )\n",
      "        )\n",
      "        (branch2): Sequential(\n",
      "          (0): BasicConv2d(\n",
      "            (conv): Conv2d(1024, 192, kernel_size=(1, 1), stride=(1, 1), bias=False)\n",
      "            (bn): BatchNorm2d(192, eps=0.001, momentum=0.1, affine=True, track_running_stats=True)\n",
      "            (relu): ReLU(inplace=True)\n",
      "          )\n",
      "          (1): BasicConv2d(\n",
      "            (conv): Conv2d(192, 192, kernel_size=(7, 1), stride=(1, 1), padding=(3, 0), bias=False)\n",
      "            (bn): BatchNorm2d(192, eps=0.001, momentum=0.1, affine=True, track_running_stats=True)\n",
      "            (relu): ReLU(inplace=True)\n",
      "          )\n",
      "          (2): BasicConv2d(\n",
      "            (conv): Conv2d(192, 224, kernel_size=(1, 7), stride=(1, 1), padding=(0, 3), bias=False)\n",
      "            (bn): BatchNorm2d(224, eps=0.001, momentum=0.1, affine=True, track_running_stats=True)\n",
      "            (relu): ReLU(inplace=True)\n",
      "          )\n",
      "          (3): BasicConv2d(\n",
      "            (conv): Conv2d(224, 224, kernel_size=(7, 1), stride=(1, 1), padding=(3, 0), bias=False)\n",
      "            (bn): BatchNorm2d(224, eps=0.001, momentum=0.1, affine=True, track_running_stats=True)\n",
      "            (relu): ReLU(inplace=True)\n",
      "          )\n",
      "          (4): BasicConv2d(\n",
      "            (conv): Conv2d(224, 256, kernel_size=(1, 7), stride=(1, 1), padding=(0, 3), bias=False)\n",
      "            (bn): BatchNorm2d(256, eps=0.001, momentum=0.1, affine=True, track_running_stats=True)\n",
      "            (relu): ReLU(inplace=True)\n",
      "          )\n",
      "        )\n",
      "        (branch3): Sequential(\n",
      "          (0): AvgPool2d(kernel_size=3, stride=1, padding=1)\n",
      "          (1): BasicConv2d(\n",
      "            (conv): Conv2d(1024, 128, kernel_size=(1, 1), stride=(1, 1), bias=False)\n",
      "            (bn): BatchNorm2d(128, eps=0.001, momentum=0.1, affine=True, track_running_stats=True)\n",
      "            (relu): ReLU(inplace=True)\n",
      "          )\n",
      "        )\n",
      "      )\n",
      "      (16): Inception_B(\n",
      "        (branch0): BasicConv2d(\n",
      "          (conv): Conv2d(1024, 384, kernel_size=(1, 1), stride=(1, 1), bias=False)\n",
      "          (bn): BatchNorm2d(384, eps=0.001, momentum=0.1, affine=True, track_running_stats=True)\n",
      "          (relu): ReLU(inplace=True)\n",
      "        )\n",
      "        (branch1): Sequential(\n",
      "          (0): BasicConv2d(\n",
      "            (conv): Conv2d(1024, 192, kernel_size=(1, 1), stride=(1, 1), bias=False)\n",
      "            (bn): BatchNorm2d(192, eps=0.001, momentum=0.1, affine=True, track_running_stats=True)\n",
      "            (relu): ReLU(inplace=True)\n",
      "          )\n",
      "          (1): BasicConv2d(\n",
      "            (conv): Conv2d(192, 224, kernel_size=(1, 7), stride=(1, 1), padding=(0, 3), bias=False)\n",
      "            (bn): BatchNorm2d(224, eps=0.001, momentum=0.1, affine=True, track_running_stats=True)\n",
      "            (relu): ReLU(inplace=True)\n",
      "          )\n",
      "          (2): BasicConv2d(\n",
      "            (conv): Conv2d(224, 256, kernel_size=(7, 1), stride=(1, 1), padding=(3, 0), bias=False)\n",
      "            (bn): BatchNorm2d(256, eps=0.001, momentum=0.1, affine=True, track_running_stats=True)\n",
      "            (relu): ReLU(inplace=True)\n",
      "          )\n",
      "        )\n",
      "        (branch2): Sequential(\n",
      "          (0): BasicConv2d(\n",
      "            (conv): Conv2d(1024, 192, kernel_size=(1, 1), stride=(1, 1), bias=False)\n",
      "            (bn): BatchNorm2d(192, eps=0.001, momentum=0.1, affine=True, track_running_stats=True)\n",
      "            (relu): ReLU(inplace=True)\n",
      "          )\n",
      "          (1): BasicConv2d(\n",
      "            (conv): Conv2d(192, 192, kernel_size=(7, 1), stride=(1, 1), padding=(3, 0), bias=False)\n",
      "            (bn): BatchNorm2d(192, eps=0.001, momentum=0.1, affine=True, track_running_stats=True)\n",
      "            (relu): ReLU(inplace=True)\n",
      "          )\n",
      "          (2): BasicConv2d(\n",
      "            (conv): Conv2d(192, 224, kernel_size=(1, 7), stride=(1, 1), padding=(0, 3), bias=False)\n",
      "            (bn): BatchNorm2d(224, eps=0.001, momentum=0.1, affine=True, track_running_stats=True)\n",
      "            (relu): ReLU(inplace=True)\n",
      "          )\n",
      "          (3): BasicConv2d(\n",
      "            (conv): Conv2d(224, 224, kernel_size=(7, 1), stride=(1, 1), padding=(3, 0), bias=False)\n",
      "            (bn): BatchNorm2d(224, eps=0.001, momentum=0.1, affine=True, track_running_stats=True)\n",
      "            (relu): ReLU(inplace=True)\n",
      "          )\n",
      "          (4): BasicConv2d(\n",
      "            (conv): Conv2d(224, 256, kernel_size=(1, 7), stride=(1, 1), padding=(0, 3), bias=False)\n",
      "            (bn): BatchNorm2d(256, eps=0.001, momentum=0.1, affine=True, track_running_stats=True)\n",
      "            (relu): ReLU(inplace=True)\n",
      "          )\n",
      "        )\n",
      "        (branch3): Sequential(\n",
      "          (0): AvgPool2d(kernel_size=3, stride=1, padding=1)\n",
      "          (1): BasicConv2d(\n",
      "            (conv): Conv2d(1024, 128, kernel_size=(1, 1), stride=(1, 1), bias=False)\n",
      "            (bn): BatchNorm2d(128, eps=0.001, momentum=0.1, affine=True, track_running_stats=True)\n",
      "            (relu): ReLU(inplace=True)\n",
      "          )\n",
      "        )\n",
      "      )\n",
      "      (17): Inception_B(\n",
      "        (branch0): BasicConv2d(\n",
      "          (conv): Conv2d(1024, 384, kernel_size=(1, 1), stride=(1, 1), bias=False)\n",
      "          (bn): BatchNorm2d(384, eps=0.001, momentum=0.1, affine=True, track_running_stats=True)\n",
      "          (relu): ReLU(inplace=True)\n",
      "        )\n",
      "        (branch1): Sequential(\n",
      "          (0): BasicConv2d(\n",
      "            (conv): Conv2d(1024, 192, kernel_size=(1, 1), stride=(1, 1), bias=False)\n",
      "            (bn): BatchNorm2d(192, eps=0.001, momentum=0.1, affine=True, track_running_stats=True)\n",
      "            (relu): ReLU(inplace=True)\n",
      "          )\n",
      "          (1): BasicConv2d(\n",
      "            (conv): Conv2d(192, 224, kernel_size=(1, 7), stride=(1, 1), padding=(0, 3), bias=False)\n",
      "            (bn): BatchNorm2d(224, eps=0.001, momentum=0.1, affine=True, track_running_stats=True)\n",
      "            (relu): ReLU(inplace=True)\n",
      "          )\n",
      "          (2): BasicConv2d(\n",
      "            (conv): Conv2d(224, 256, kernel_size=(7, 1), stride=(1, 1), padding=(3, 0), bias=False)\n",
      "            (bn): BatchNorm2d(256, eps=0.001, momentum=0.1, affine=True, track_running_stats=True)\n",
      "            (relu): ReLU(inplace=True)\n",
      "          )\n",
      "        )\n",
      "        (branch2): Sequential(\n",
      "          (0): BasicConv2d(\n",
      "            (conv): Conv2d(1024, 192, kernel_size=(1, 1), stride=(1, 1), bias=False)\n",
      "            (bn): BatchNorm2d(192, eps=0.001, momentum=0.1, affine=True, track_running_stats=True)\n",
      "            (relu): ReLU(inplace=True)\n",
      "          )\n",
      "          (1): BasicConv2d(\n",
      "            (conv): Conv2d(192, 192, kernel_size=(7, 1), stride=(1, 1), padding=(3, 0), bias=False)\n",
      "            (bn): BatchNorm2d(192, eps=0.001, momentum=0.1, affine=True, track_running_stats=True)\n",
      "            (relu): ReLU(inplace=True)\n",
      "          )\n",
      "          (2): BasicConv2d(\n",
      "            (conv): Conv2d(192, 224, kernel_size=(1, 7), stride=(1, 1), padding=(0, 3), bias=False)\n",
      "            (bn): BatchNorm2d(224, eps=0.001, momentum=0.1, affine=True, track_running_stats=True)\n",
      "            (relu): ReLU(inplace=True)\n",
      "          )\n",
      "          (3): BasicConv2d(\n",
      "            (conv): Conv2d(224, 224, kernel_size=(7, 1), stride=(1, 1), padding=(3, 0), bias=False)\n",
      "            (bn): BatchNorm2d(224, eps=0.001, momentum=0.1, affine=True, track_running_stats=True)\n",
      "            (relu): ReLU(inplace=True)\n",
      "          )\n",
      "          (4): BasicConv2d(\n",
      "            (conv): Conv2d(224, 256, kernel_size=(1, 7), stride=(1, 1), padding=(0, 3), bias=False)\n",
      "            (bn): BatchNorm2d(256, eps=0.001, momentum=0.1, affine=True, track_running_stats=True)\n",
      "            (relu): ReLU(inplace=True)\n",
      "          )\n",
      "        )\n",
      "        (branch3): Sequential(\n",
      "          (0): AvgPool2d(kernel_size=3, stride=1, padding=1)\n",
      "          (1): BasicConv2d(\n",
      "            (conv): Conv2d(1024, 128, kernel_size=(1, 1), stride=(1, 1), bias=False)\n",
      "            (bn): BatchNorm2d(128, eps=0.001, momentum=0.1, affine=True, track_running_stats=True)\n",
      "            (relu): ReLU(inplace=True)\n",
      "          )\n",
      "        )\n",
      "      )\n",
      "      (18): Reduction_B(\n",
      "        (branch0): Sequential(\n",
      "          (0): BasicConv2d(\n",
      "            (conv): Conv2d(1024, 192, kernel_size=(1, 1), stride=(1, 1), bias=False)\n",
      "            (bn): BatchNorm2d(192, eps=0.001, momentum=0.1, affine=True, track_running_stats=True)\n",
      "            (relu): ReLU(inplace=True)\n",
      "          )\n",
      "          (1): BasicConv2d(\n",
      "            (conv): Conv2d(192, 192, kernel_size=(3, 3), stride=(2, 2), padding=(1, 1), bias=False)\n",
      "            (bn): BatchNorm2d(192, eps=0.001, momentum=0.1, affine=True, track_running_stats=True)\n",
      "            (relu): ReLU(inplace=True)\n",
      "          )\n",
      "        )\n",
      "        (branch1): Sequential(\n",
      "          (0): BasicConv2d(\n",
      "            (conv): Conv2d(1024, 256, kernel_size=(1, 1), stride=(1, 1), bias=False)\n",
      "            (bn): BatchNorm2d(256, eps=0.001, momentum=0.1, affine=True, track_running_stats=True)\n",
      "            (relu): ReLU(inplace=True)\n",
      "          )\n",
      "          (1): BasicConv2d(\n",
      "            (conv): Conv2d(256, 256, kernel_size=(1, 7), stride=(1, 1), padding=(0, 3), bias=False)\n",
      "            (bn): BatchNorm2d(256, eps=0.001, momentum=0.1, affine=True, track_running_stats=True)\n",
      "            (relu): ReLU(inplace=True)\n",
      "          )\n",
      "          (2): BasicConv2d(\n",
      "            (conv): Conv2d(256, 320, kernel_size=(7, 1), stride=(1, 1), padding=(3, 0), bias=False)\n",
      "            (bn): BatchNorm2d(320, eps=0.001, momentum=0.1, affine=True, track_running_stats=True)\n",
      "            (relu): ReLU(inplace=True)\n",
      "          )\n",
      "          (3): BasicConv2d(\n",
      "            (conv): Conv2d(320, 320, kernel_size=(3, 3), stride=(2, 2), padding=(1, 1), bias=False)\n",
      "            (bn): BatchNorm2d(320, eps=0.001, momentum=0.1, affine=True, track_running_stats=True)\n",
      "            (relu): ReLU(inplace=True)\n",
      "          )\n",
      "        )\n",
      "        (branch2): MaxPool2d(kernel_size=3, stride=2, padding=(1, 1), dilation=1, ceil_mode=False)\n",
      "      )\n",
      "      (19): Inception_C(\n",
      "        (branch0): BasicConv2d(\n",
      "          (conv): Conv2d(1536, 256, kernel_size=(1, 1), stride=(1, 1), bias=False)\n",
      "          (bn): BatchNorm2d(256, eps=0.001, momentum=0.1, affine=True, track_running_stats=True)\n",
      "          (relu): ReLU(inplace=True)\n",
      "        )\n",
      "        (branch1_0): BasicConv2d(\n",
      "          (conv): Conv2d(1536, 384, kernel_size=(1, 1), stride=(1, 1), bias=False)\n",
      "          (bn): BatchNorm2d(384, eps=0.001, momentum=0.1, affine=True, track_running_stats=True)\n",
      "          (relu): ReLU(inplace=True)\n",
      "        )\n",
      "        (branch1_1a): BasicConv2d(\n",
      "          (conv): Conv2d(384, 256, kernel_size=(1, 3), stride=(1, 1), padding=(0, 1), bias=False)\n",
      "          (bn): BatchNorm2d(256, eps=0.001, momentum=0.1, affine=True, track_running_stats=True)\n",
      "          (relu): ReLU(inplace=True)\n",
      "        )\n",
      "        (branch1_1b): BasicConv2d(\n",
      "          (conv): Conv2d(384, 256, kernel_size=(3, 1), stride=(1, 1), padding=(1, 0), bias=False)\n",
      "          (bn): BatchNorm2d(256, eps=0.001, momentum=0.1, affine=True, track_running_stats=True)\n",
      "          (relu): ReLU(inplace=True)\n",
      "        )\n",
      "        (branch2_0): BasicConv2d(\n",
      "          (conv): Conv2d(1536, 384, kernel_size=(1, 1), stride=(1, 1), bias=False)\n",
      "          (bn): BatchNorm2d(384, eps=0.001, momentum=0.1, affine=True, track_running_stats=True)\n",
      "          (relu): ReLU(inplace=True)\n",
      "        )\n",
      "        (branch2_1): BasicConv2d(\n",
      "          (conv): Conv2d(384, 448, kernel_size=(3, 1), stride=(1, 1), padding=(1, 0), bias=False)\n",
      "          (bn): BatchNorm2d(448, eps=0.001, momentum=0.1, affine=True, track_running_stats=True)\n",
      "          (relu): ReLU(inplace=True)\n",
      "        )\n",
      "        (branch2_2): BasicConv2d(\n",
      "          (conv): Conv2d(448, 512, kernel_size=(1, 3), stride=(1, 1), padding=(0, 1), bias=False)\n",
      "          (bn): BatchNorm2d(512, eps=0.001, momentum=0.1, affine=True, track_running_stats=True)\n",
      "          (relu): ReLU(inplace=True)\n",
      "        )\n",
      "        (branch2_3a): BasicConv2d(\n",
      "          (conv): Conv2d(512, 256, kernel_size=(1, 3), stride=(1, 1), padding=(0, 1), bias=False)\n",
      "          (bn): BatchNorm2d(256, eps=0.001, momentum=0.1, affine=True, track_running_stats=True)\n",
      "          (relu): ReLU(inplace=True)\n",
      "        )\n",
      "        (branch2_3b): BasicConv2d(\n",
      "          (conv): Conv2d(512, 256, kernel_size=(3, 1), stride=(1, 1), padding=(1, 0), bias=False)\n",
      "          (bn): BatchNorm2d(256, eps=0.001, momentum=0.1, affine=True, track_running_stats=True)\n",
      "          (relu): ReLU(inplace=True)\n",
      "        )\n",
      "        (branch3): Sequential(\n",
      "          (0): AvgPool2d(kernel_size=3, stride=1, padding=1)\n",
      "          (1): BasicConv2d(\n",
      "            (conv): Conv2d(1536, 256, kernel_size=(1, 1), stride=(1, 1), bias=False)\n",
      "            (bn): BatchNorm2d(256, eps=0.001, momentum=0.1, affine=True, track_running_stats=True)\n",
      "            (relu): ReLU(inplace=True)\n",
      "          )\n",
      "        )\n",
      "      )\n",
      "      (20): Inception_C(\n",
      "        (branch0): BasicConv2d(\n",
      "          (conv): Conv2d(1536, 256, kernel_size=(1, 1), stride=(1, 1), bias=False)\n",
      "          (bn): BatchNorm2d(256, eps=0.001, momentum=0.1, affine=True, track_running_stats=True)\n",
      "          (relu): ReLU(inplace=True)\n",
      "        )\n",
      "        (branch1_0): BasicConv2d(\n",
      "          (conv): Conv2d(1536, 384, kernel_size=(1, 1), stride=(1, 1), bias=False)\n",
      "          (bn): BatchNorm2d(384, eps=0.001, momentum=0.1, affine=True, track_running_stats=True)\n",
      "          (relu): ReLU(inplace=True)\n",
      "        )\n",
      "        (branch1_1a): BasicConv2d(\n",
      "          (conv): Conv2d(384, 256, kernel_size=(1, 3), stride=(1, 1), padding=(0, 1), bias=False)\n",
      "          (bn): BatchNorm2d(256, eps=0.001, momentum=0.1, affine=True, track_running_stats=True)\n",
      "          (relu): ReLU(inplace=True)\n",
      "        )\n",
      "        (branch1_1b): BasicConv2d(\n",
      "          (conv): Conv2d(384, 256, kernel_size=(3, 1), stride=(1, 1), padding=(1, 0), bias=False)\n",
      "          (bn): BatchNorm2d(256, eps=0.001, momentum=0.1, affine=True, track_running_stats=True)\n",
      "          (relu): ReLU(inplace=True)\n",
      "        )\n",
      "        (branch2_0): BasicConv2d(\n",
      "          (conv): Conv2d(1536, 384, kernel_size=(1, 1), stride=(1, 1), bias=False)\n",
      "          (bn): BatchNorm2d(384, eps=0.001, momentum=0.1, affine=True, track_running_stats=True)\n",
      "          (relu): ReLU(inplace=True)\n",
      "        )\n",
      "        (branch2_1): BasicConv2d(\n",
      "          (conv): Conv2d(384, 448, kernel_size=(3, 1), stride=(1, 1), padding=(1, 0), bias=False)\n",
      "          (bn): BatchNorm2d(448, eps=0.001, momentum=0.1, affine=True, track_running_stats=True)\n",
      "          (relu): ReLU(inplace=True)\n",
      "        )\n",
      "        (branch2_2): BasicConv2d(\n",
      "          (conv): Conv2d(448, 512, kernel_size=(1, 3), stride=(1, 1), padding=(0, 1), bias=False)\n",
      "          (bn): BatchNorm2d(512, eps=0.001, momentum=0.1, affine=True, track_running_stats=True)\n",
      "          (relu): ReLU(inplace=True)\n",
      "        )\n",
      "        (branch2_3a): BasicConv2d(\n",
      "          (conv): Conv2d(512, 256, kernel_size=(1, 3), stride=(1, 1), padding=(0, 1), bias=False)\n",
      "          (bn): BatchNorm2d(256, eps=0.001, momentum=0.1, affine=True, track_running_stats=True)\n",
      "          (relu): ReLU(inplace=True)\n",
      "        )\n",
      "        (branch2_3b): BasicConv2d(\n",
      "          (conv): Conv2d(512, 256, kernel_size=(3, 1), stride=(1, 1), padding=(1, 0), bias=False)\n",
      "          (bn): BatchNorm2d(256, eps=0.001, momentum=0.1, affine=True, track_running_stats=True)\n",
      "          (relu): ReLU(inplace=True)\n",
      "        )\n",
      "        (branch3): Sequential(\n",
      "          (0): AvgPool2d(kernel_size=3, stride=1, padding=1)\n",
      "          (1): BasicConv2d(\n",
      "            (conv): Conv2d(1536, 256, kernel_size=(1, 1), stride=(1, 1), bias=False)\n",
      "            (bn): BatchNorm2d(256, eps=0.001, momentum=0.1, affine=True, track_running_stats=True)\n",
      "            (relu): ReLU(inplace=True)\n",
      "          )\n",
      "        )\n",
      "      )\n",
      "      (21): Inception_C(\n",
      "        (branch0): BasicConv2d(\n",
      "          (conv): Conv2d(1536, 256, kernel_size=(1, 1), stride=(1, 1), bias=False)\n",
      "          (bn): BatchNorm2d(256, eps=0.001, momentum=0.1, affine=True, track_running_stats=True)\n",
      "          (relu): ReLU(inplace=True)\n",
      "        )\n",
      "        (branch1_0): BasicConv2d(\n",
      "          (conv): Conv2d(1536, 384, kernel_size=(1, 1), stride=(1, 1), bias=False)\n",
      "          (bn): BatchNorm2d(384, eps=0.001, momentum=0.1, affine=True, track_running_stats=True)\n",
      "          (relu): ReLU(inplace=True)\n",
      "        )\n",
      "        (branch1_1a): BasicConv2d(\n",
      "          (conv): Conv2d(384, 256, kernel_size=(1, 3), stride=(1, 1), padding=(0, 1), bias=False)\n",
      "          (bn): BatchNorm2d(256, eps=0.001, momentum=0.1, affine=True, track_running_stats=True)\n",
      "          (relu): ReLU(inplace=True)\n",
      "        )\n",
      "        (branch1_1b): BasicConv2d(\n",
      "          (conv): Conv2d(384, 256, kernel_size=(3, 1), stride=(1, 1), padding=(1, 0), bias=False)\n",
      "          (bn): BatchNorm2d(256, eps=0.001, momentum=0.1, affine=True, track_running_stats=True)\n",
      "          (relu): ReLU(inplace=True)\n",
      "        )\n",
      "        (branch2_0): BasicConv2d(\n",
      "          (conv): Conv2d(1536, 384, kernel_size=(1, 1), stride=(1, 1), bias=False)\n",
      "          (bn): BatchNorm2d(384, eps=0.001, momentum=0.1, affine=True, track_running_stats=True)\n",
      "          (relu): ReLU(inplace=True)\n",
      "        )\n",
      "        (branch2_1): BasicConv2d(\n",
      "          (conv): Conv2d(384, 448, kernel_size=(3, 1), stride=(1, 1), padding=(1, 0), bias=False)\n",
      "          (bn): BatchNorm2d(448, eps=0.001, momentum=0.1, affine=True, track_running_stats=True)\n",
      "          (relu): ReLU(inplace=True)\n",
      "        )\n",
      "        (branch2_2): BasicConv2d(\n",
      "          (conv): Conv2d(448, 512, kernel_size=(1, 3), stride=(1, 1), padding=(0, 1), bias=False)\n",
      "          (bn): BatchNorm2d(512, eps=0.001, momentum=0.1, affine=True, track_running_stats=True)\n",
      "          (relu): ReLU(inplace=True)\n",
      "        )\n",
      "        (branch2_3a): BasicConv2d(\n",
      "          (conv): Conv2d(512, 256, kernel_size=(1, 3), stride=(1, 1), padding=(0, 1), bias=False)\n",
      "          (bn): BatchNorm2d(256, eps=0.001, momentum=0.1, affine=True, track_running_stats=True)\n",
      "          (relu): ReLU(inplace=True)\n",
      "        )\n",
      "        (branch2_3b): BasicConv2d(\n",
      "          (conv): Conv2d(512, 256, kernel_size=(3, 1), stride=(1, 1), padding=(1, 0), bias=False)\n",
      "          (bn): BatchNorm2d(256, eps=0.001, momentum=0.1, affine=True, track_running_stats=True)\n",
      "          (relu): ReLU(inplace=True)\n",
      "        )\n",
      "        (branch3): Sequential(\n",
      "          (0): AvgPool2d(kernel_size=3, stride=1, padding=1)\n",
      "          (1): BasicConv2d(\n",
      "            (conv): Conv2d(1536, 256, kernel_size=(1, 1), stride=(1, 1), bias=False)\n",
      "            (bn): BatchNorm2d(256, eps=0.001, momentum=0.1, affine=True, track_running_stats=True)\n",
      "            (relu): ReLU(inplace=True)\n",
      "          )\n",
      "        )\n",
      "      )\n",
      "    )\n",
      "    (avg_pool): AvgPool2d(kernel_size=8, stride=8, padding=0)\n",
      "  )\n",
      "  (decoder): FPNDecoder(\n",
      "    (p5): Conv2d(1536, 256, kernel_size=(1, 1), stride=(1, 1))\n",
      "    (p4): FPNBlock(\n",
      "      (skip_conv): Conv2d(1024, 256, kernel_size=(1, 1), stride=(1, 1))\n",
      "    )\n",
      "    (p3): FPNBlock(\n",
      "      (skip_conv): Conv2d(384, 256, kernel_size=(1, 1), stride=(1, 1))\n",
      "    )\n",
      "    (p2): FPNBlock(\n",
      "      (skip_conv): Conv2d(192, 256, kernel_size=(1, 1), stride=(1, 1))\n",
      "    )\n",
      "    (seg_blocks): ModuleList(\n",
      "      (0): SegmentationBlock(\n",
      "        (block): Sequential(\n",
      "          (0): Conv3x3GNReLU(\n",
      "            (block): Sequential(\n",
      "              (0): Conv2d(256, 128, kernel_size=(3, 3), stride=(1, 1), padding=(1, 1), bias=False)\n",
      "              (1): GroupNorm(32, 128, eps=1e-05, affine=True)\n",
      "              (2): ReLU(inplace=True)\n",
      "            )\n",
      "          )\n",
      "          (1): Conv3x3GNReLU(\n",
      "            (block): Sequential(\n",
      "              (0): Conv2d(128, 128, kernel_size=(3, 3), stride=(1, 1), padding=(1, 1), bias=False)\n",
      "              (1): GroupNorm(32, 128, eps=1e-05, affine=True)\n",
      "              (2): ReLU(inplace=True)\n",
      "            )\n",
      "          )\n",
      "          (2): Conv3x3GNReLU(\n",
      "            (block): Sequential(\n",
      "              (0): Conv2d(128, 128, kernel_size=(3, 3), stride=(1, 1), padding=(1, 1), bias=False)\n",
      "              (1): GroupNorm(32, 128, eps=1e-05, affine=True)\n",
      "              (2): ReLU(inplace=True)\n",
      "            )\n",
      "          )\n",
      "        )\n",
      "      )\n",
      "      (1): SegmentationBlock(\n",
      "        (block): Sequential(\n",
      "          (0): Conv3x3GNReLU(\n",
      "            (block): Sequential(\n",
      "              (0): Conv2d(256, 128, kernel_size=(3, 3), stride=(1, 1), padding=(1, 1), bias=False)\n",
      "              (1): GroupNorm(32, 128, eps=1e-05, affine=True)\n",
      "              (2): ReLU(inplace=True)\n",
      "            )\n",
      "          )\n",
      "          (1): Conv3x3GNReLU(\n",
      "            (block): Sequential(\n",
      "              (0): Conv2d(128, 128, kernel_size=(3, 3), stride=(1, 1), padding=(1, 1), bias=False)\n",
      "              (1): GroupNorm(32, 128, eps=1e-05, affine=True)\n",
      "              (2): ReLU(inplace=True)\n",
      "            )\n",
      "          )\n",
      "        )\n",
      "      )\n",
      "      (2): SegmentationBlock(\n",
      "        (block): Sequential(\n",
      "          (0): Conv3x3GNReLU(\n",
      "            (block): Sequential(\n",
      "              (0): Conv2d(256, 128, kernel_size=(3, 3), stride=(1, 1), padding=(1, 1), bias=False)\n",
      "              (1): GroupNorm(32, 128, eps=1e-05, affine=True)\n",
      "              (2): ReLU(inplace=True)\n",
      "            )\n",
      "          )\n",
      "        )\n",
      "      )\n",
      "      (3): SegmentationBlock(\n",
      "        (block): Sequential(\n",
      "          (0): Conv3x3GNReLU(\n",
      "            (block): Sequential(\n",
      "              (0): Conv2d(256, 128, kernel_size=(3, 3), stride=(1, 1), padding=(1, 1), bias=False)\n",
      "              (1): GroupNorm(32, 128, eps=1e-05, affine=True)\n",
      "              (2): ReLU(inplace=True)\n",
      "            )\n",
      "          )\n",
      "        )\n",
      "      )\n",
      "    )\n",
      "    (merge): MergeBlock()\n",
      "    (dropout): Dropout2d(p=0.2, inplace=True)\n",
      "  )\n",
      "  (segmentation_head): SegmentationHead(\n",
      "    (0): Conv2d(128, 6, kernel_size=(1, 1), stride=(1, 1))\n",
      "    (1): UpsamplingBilinear2d(scale_factor=4.0, mode=bilinear)\n",
      "    (2): Activation(\n",
      "      (activation): Identity()\n",
      "    )\n",
      "  )\n",
      ")\n"
     ]
    }
   ],
   "source": [
    "torch.manual_seed(42)\n",
    "ENCODER = 'inceptionv4'\n",
    "ENCODER_WEIGHTS = 'imagenet'\n",
    "CLASSES = 6\n",
    "ACTIVATION = None # could be None for logits or 'softmax2d' for multiclass segmentation\n",
    "\n",
    "# create segmentation model with pretrained encoder\n",
    "model = smp.FPN(\n",
    "    encoder_name=ENCODER, \n",
    "    encoder_weights=ENCODER_WEIGHTS, \n",
    "    in_channels=3,\n",
    "    classes=CLASSES, \n",
    "    activation=ACTIVATION,\n",
    ")\n",
    "print(model)"
   ]
  },
  {
   "cell_type": "markdown",
   "id": "22b27de4",
   "metadata": {},
   "source": [
    "# Model Training\n",
    "\n",
    "Next the model training was started with 30 epochs and initial learning rate as 5e-04. The model checkpoint was saved whenever the validation dice was reported the greater than the previous best validation dice.\n",
    "\n",
    "In the below results you can see the training starting from epoch 6. This is because the kernel was initally interuptted after epoch 5. So, I had to start all over again. Since, checkpoint was saved upto epoch number 5 so it started from epoch 6."
   ]
  },
  {
   "cell_type": "code",
   "execution_count": 4,
   "id": "6f528cc3",
   "metadata": {},
   "outputs": [],
   "source": [
    "lr = 5e-04\n",
    "epochs = 20\n",
    "path = \"./Models/model_fpn_inceptionv4.pth\""
   ]
  },
  {
   "cell_type": "code",
   "execution_count": 5,
   "id": "82b95ac9",
   "metadata": {},
   "outputs": [
    {
     "name": "stderr",
     "output_type": "stream",
     "text": [
      "  0%|                                                                                          | 0/310 [00:00<?, ?it/s]"
     ]
    },
    {
     "name": "stdout",
     "output_type": "stream",
     "text": [
      "Current Device is GPU: 0\n",
      "Total memory allocated in GB: 0.5\n",
      "Total memory cached in GB: 1.0\n",
      "Learning Rate =  0.0005\n",
      "Starting epoch: 0 | phase: train | ⏰: 11:14:41\n"
     ]
    },
    {
     "name": "stderr",
     "output_type": "stream",
     "text": [
      "100%|███████████████████████████████████████████████████████████████████| 310/310 [04:03<00:00,  1.27it/s, loss=0.0182]\n",
      "C:\\Users\\SIDDHARTA\\OneDrive\\Documents\\NEU-DET\\Utilities\\Meter.py:40: RuntimeWarning: Mean of empty slice\n",
      "  dice_neg = np.nanmean(self.dice_neg_scores)\n",
      "  0%|                                                                                          | 0/133 [00:00<?, ?it/s]"
     ]
    },
    {
     "name": "stdout",
     "output_type": "stream",
     "text": [
      "Loss: 0.1455 | IoU: 0.3235 | dice: 0.4151 | dice_neg: nan | dice_pos: 0.4151\n",
      "Starting epoch: 0 | phase: val | ⏰: 11:18:45\n"
     ]
    },
    {
     "name": "stderr",
     "output_type": "stream",
     "text": [
      "100%|███████████████████████████████████████████████████████████████████| 133/133 [01:23<00:00,  1.58it/s, loss=0.0122]\n"
     ]
    },
    {
     "name": "stdout",
     "output_type": "stream",
     "text": [
      "Loss: 0.0972 | IoU: 0.5192 | dice: 0.6472 | dice_neg: nan | dice_pos: 0.6472\n",
      "******** New optimal found, saving state ********\n"
     ]
    },
    {
     "name": "stderr",
     "output_type": "stream",
     "text": [
      "  0%|                                                                                          | 0/310 [00:00<?, ?it/s]"
     ]
    },
    {
     "name": "stdout",
     "output_type": "stream",
     "text": [
      "\n",
      "Learning Rate =  0.0005\n",
      "Starting epoch: 1 | phase: train | ⏰: 11:20:10\n"
     ]
    },
    {
     "name": "stderr",
     "output_type": "stream",
     "text": [
      "100%|███████████████████████████████████████████████████████████████████| 310/310 [11:17<00:00,  2.19s/it, loss=0.0158]\n",
      "  0%|                                                                                          | 0/133 [00:00<?, ?it/s]"
     ]
    },
    {
     "name": "stdout",
     "output_type": "stream",
     "text": [
      "Loss: 0.1267 | IoU: 0.4099 | dice: 0.5232 | dice_neg: nan | dice_pos: 0.5232\n",
      "Starting epoch: 1 | phase: val | ⏰: 11:31:28\n"
     ]
    },
    {
     "name": "stderr",
     "output_type": "stream",
     "text": [
      "100%|█████████████████████████████████████████████████████████████████████| 133/133 [01:24<00:00,  1.57it/s, loss=0.01]\n"
     ]
    },
    {
     "name": "stdout",
     "output_type": "stream",
     "text": [
      "Loss: 0.0803 | IoU: 0.5853 | dice: 0.7152 | dice_neg: nan | dice_pos: 0.7152\n",
      "******** New optimal found, saving state ********\n"
     ]
    },
    {
     "name": "stderr",
     "output_type": "stream",
     "text": [
      "  0%|                                                                                          | 0/310 [00:00<?, ?it/s]"
     ]
    },
    {
     "name": "stdout",
     "output_type": "stream",
     "text": [
      "\n",
      "Learning Rate =  0.0005\n",
      "Starting epoch: 2 | phase: train | ⏰: 11:32:54\n"
     ]
    },
    {
     "name": "stderr",
     "output_type": "stream",
     "text": [
      "100%|███████████████████████████████████████████████████████████████████| 310/310 [11:17<00:00,  2.19s/it, loss=0.0135]\n",
      "  0%|                                                                                          | 0/133 [00:00<?, ?it/s]"
     ]
    },
    {
     "name": "stdout",
     "output_type": "stream",
     "text": [
      "Loss: 0.1077 | IoU: 0.4745 | dice: 0.5949 | dice_neg: nan | dice_pos: 0.5949\n",
      "Starting epoch: 2 | phase: val | ⏰: 11:44:12\n"
     ]
    },
    {
     "name": "stderr",
     "output_type": "stream",
     "text": [
      "100%|███████████████████████████████████████████████████████████████████| 133/133 [01:23<00:00,  1.59it/s, loss=0.0093]\n",
      "  0%|                                                                                          | 0/310 [00:00<?, ?it/s]"
     ]
    },
    {
     "name": "stdout",
     "output_type": "stream",
     "text": [
      "Loss: 0.0744 | IoU: 0.5291 | dice: 0.6454 | dice_neg: nan | dice_pos: 0.6454\n",
      "\n",
      "Learning Rate =  0.0005\n",
      "Starting epoch: 3 | phase: train | ⏰: 11:45:35\n"
     ]
    },
    {
     "name": "stderr",
     "output_type": "stream",
     "text": [
      "100%|███████████████████████████████████████████████████████████████████| 310/310 [11:16<00:00,  2.18s/it, loss=0.0123]\n",
      "  0%|                                                                                          | 0/133 [00:00<?, ?it/s]"
     ]
    },
    {
     "name": "stdout",
     "output_type": "stream",
     "text": [
      "Loss: 0.0983 | IoU: 0.5043 | dice: 0.6252 | dice_neg: nan | dice_pos: 0.6252\n",
      "Starting epoch: 3 | phase: val | ⏰: 11:56:52\n"
     ]
    },
    {
     "name": "stderr",
     "output_type": "stream",
     "text": [
      "100%|███████████████████████████████████████████████████████████████████| 133/133 [01:25<00:00,  1.55it/s, loss=0.0085]\n"
     ]
    },
    {
     "name": "stdout",
     "output_type": "stream",
     "text": [
      "Loss: 0.0680 | IoU: 0.6090 | dice: 0.7333 | dice_neg: nan | dice_pos: 0.7333\n",
      "******** New optimal found, saving state ********\n"
     ]
    },
    {
     "name": "stderr",
     "output_type": "stream",
     "text": [
      "  0%|                                                                                          | 0/310 [00:00<?, ?it/s]"
     ]
    },
    {
     "name": "stdout",
     "output_type": "stream",
     "text": [
      "\n",
      "Learning Rate =  0.0005\n",
      "Starting epoch: 4 | phase: train | ⏰: 11:58:20\n"
     ]
    },
    {
     "name": "stderr",
     "output_type": "stream",
     "text": [
      "100%|███████████████████████████████████████████████████████████████████| 310/310 [11:20<00:00,  2.19s/it, loss=0.0112]\n",
      "  0%|                                                                                          | 0/133 [00:00<?, ?it/s]"
     ]
    },
    {
     "name": "stdout",
     "output_type": "stream",
     "text": [
      "Loss: 0.0899 | IoU: 0.5305 | dice: 0.6541 | dice_neg: nan | dice_pos: 0.6541\n",
      "Starting epoch: 4 | phase: val | ⏰: 12:09:40\n"
     ]
    },
    {
     "name": "stderr",
     "output_type": "stream",
     "text": [
      "100%|██████████████████████████████████████████████████████████████████| 133/133 [01:27<00:00,  1.53it/s, loss=0.00826]\n"
     ]
    },
    {
     "name": "stdout",
     "output_type": "stream",
     "text": [
      "Loss: 0.0661 | IoU: 0.6250 | dice: 0.7465 | dice_neg: nan | dice_pos: 0.7465\n",
      "******** New optimal found, saving state ********\n"
     ]
    },
    {
     "name": "stderr",
     "output_type": "stream",
     "text": [
      "  0%|                                                                                          | 0/310 [00:00<?, ?it/s]"
     ]
    },
    {
     "name": "stdout",
     "output_type": "stream",
     "text": [
      "\n",
      "Learning Rate =  0.0005\n",
      "Starting epoch: 5 | phase: train | ⏰: 12:11:09\n"
     ]
    },
    {
     "name": "stderr",
     "output_type": "stream",
     "text": [
      "100%|███████████████████████████████████████████████████████████████████| 310/310 [11:21<00:00,  2.20s/it, loss=0.0101]\n",
      "  0%|                                                                                          | 0/133 [00:00<?, ?it/s]"
     ]
    },
    {
     "name": "stdout",
     "output_type": "stream",
     "text": [
      "Loss: 0.0810 | IoU: 0.5670 | dice: 0.6911 | dice_neg: nan | dice_pos: 0.6911\n",
      "Starting epoch: 5 | phase: val | ⏰: 12:22:30\n"
     ]
    },
    {
     "name": "stderr",
     "output_type": "stream",
     "text": [
      "100%|██████████████████████████████████████████████████████████████████| 133/133 [01:27<00:00,  1.53it/s, loss=0.00786]\n"
     ]
    },
    {
     "name": "stdout",
     "output_type": "stream",
     "text": [
      "Loss: 0.0629 | IoU: 0.6540 | dice: 0.7751 | dice_neg: nan | dice_pos: 0.7751\n",
      "******** New optimal found, saving state ********\n"
     ]
    },
    {
     "name": "stderr",
     "output_type": "stream",
     "text": [
      "  0%|                                                                                          | 0/310 [00:00<?, ?it/s]"
     ]
    },
    {
     "name": "stdout",
     "output_type": "stream",
     "text": [
      "\n",
      "Learning Rate =  0.0005\n",
      "Starting epoch: 6 | phase: train | ⏰: 12:23:59\n"
     ]
    },
    {
     "name": "stderr",
     "output_type": "stream",
     "text": [
      "100%|██████████████████████████████████████████████████████████████████| 310/310 [11:23<00:00,  2.21s/it, loss=0.00979]\n",
      "  0%|                                                                                          | 0/133 [00:00<?, ?it/s]"
     ]
    },
    {
     "name": "stdout",
     "output_type": "stream",
     "text": [
      "Loss: 0.0783 | IoU: 0.5759 | dice: 0.7004 | dice_neg: nan | dice_pos: 0.7004\n",
      "Starting epoch: 6 | phase: val | ⏰: 12:35:23\n"
     ]
    },
    {
     "name": "stderr",
     "output_type": "stream",
     "text": [
      "100%|██████████████████████████████████████████████████████████████████| 133/133 [01:24<00:00,  1.58it/s, loss=0.00789]\n",
      "  0%|                                                                                          | 0/310 [00:00<?, ?it/s]"
     ]
    },
    {
     "name": "stdout",
     "output_type": "stream",
     "text": [
      "Loss: 0.0631 | IoU: 0.6117 | dice: 0.7381 | dice_neg: nan | dice_pos: 0.7381\n",
      "\n",
      "Learning Rate =  0.0005\n",
      "Starting epoch: 7 | phase: train | ⏰: 12:36:47\n"
     ]
    },
    {
     "name": "stderr",
     "output_type": "stream",
     "text": [
      "100%|██████████████████████████████████████████████████████████████████| 310/310 [11:18<00:00,  2.19s/it, loss=0.00991]\n",
      "  0%|                                                                                          | 0/133 [00:00<?, ?it/s]"
     ]
    },
    {
     "name": "stdout",
     "output_type": "stream",
     "text": [
      "Loss: 0.0793 | IoU: 0.5757 | dice: 0.6991 | dice_neg: nan | dice_pos: 0.6991\n",
      "Starting epoch: 7 | phase: val | ⏰: 12:48:05\n"
     ]
    },
    {
     "name": "stderr",
     "output_type": "stream",
     "text": [
      "100%|███████████████████████████████████████████████████████████████████| 133/133 [01:24<00:00,  1.58it/s, loss=0.0085]\n",
      "  0%|                                                                                          | 0/310 [00:00<?, ?it/s]"
     ]
    },
    {
     "name": "stdout",
     "output_type": "stream",
     "text": [
      "Loss: 0.0680 | IoU: 0.6022 | dice: 0.7281 | dice_neg: nan | dice_pos: 0.7281\n",
      "\n",
      "Learning Rate =  0.0005\n",
      "Starting epoch: 8 | phase: train | ⏰: 12:49:29\n"
     ]
    },
    {
     "name": "stderr",
     "output_type": "stream",
     "text": [
      "100%|██████████████████████████████████████████████████████████████████| 310/310 [11:19<00:00,  2.19s/it, loss=0.00954]\n",
      "  0%|                                                                                          | 0/133 [00:00<?, ?it/s]"
     ]
    },
    {
     "name": "stdout",
     "output_type": "stream",
     "text": [
      "Loss: 0.0763 | IoU: 0.5872 | dice: 0.7120 | dice_neg: nan | dice_pos: 0.7120\n",
      "Starting epoch: 8 | phase: val | ⏰: 13:00:49\n"
     ]
    },
    {
     "name": "stderr",
     "output_type": "stream",
     "text": [
      "100%|███████████████████████████████████████████████████████████████████| 133/133 [01:24<00:00,  1.58it/s, loss=0.0074]\n",
      "  0%|                                                                                          | 0/310 [00:00<?, ?it/s]"
     ]
    },
    {
     "name": "stdout",
     "output_type": "stream",
     "text": [
      "Loss: 0.0592 | IoU: 0.6423 | dice: 0.7643 | dice_neg: nan | dice_pos: 0.7643\n",
      "\n",
      "Learning Rate =  0.0005\n",
      "Starting epoch: 9 | phase: train | ⏰: 13:02:13\n"
     ]
    },
    {
     "name": "stderr",
     "output_type": "stream",
     "text": [
      "100%|██████████████████████████████████████████████████████████████████| 310/310 [11:20<00:00,  2.19s/it, loss=0.00844]\n",
      "  0%|                                                                                          | 0/133 [00:00<?, ?it/s]"
     ]
    },
    {
     "name": "stdout",
     "output_type": "stream",
     "text": [
      "Loss: 0.0675 | IoU: 0.6207 | dice: 0.7430 | dice_neg: nan | dice_pos: 0.7430\n",
      "Starting epoch: 9 | phase: val | ⏰: 13:13:34\n"
     ]
    },
    {
     "name": "stderr",
     "output_type": "stream",
     "text": [
      "100%|██████████████████████████████████████████████████████████████████| 133/133 [01:24<00:00,  1.58it/s, loss=0.00793]\n",
      "  0%|                                                                                          | 0/310 [00:00<?, ?it/s]"
     ]
    },
    {
     "name": "stdout",
     "output_type": "stream",
     "text": [
      "Loss: 0.0634 | IoU: 0.6315 | dice: 0.7573 | dice_neg: nan | dice_pos: 0.7573\n",
      "Epoch    10: reducing learning rate of group 0 to 5.0000e-05.\n",
      "\n",
      "Learning Rate =  5e-05\n",
      "Starting epoch: 10 | phase: train | ⏰: 13:14:58\n"
     ]
    },
    {
     "name": "stderr",
     "output_type": "stream",
     "text": [
      "100%|██████████████████████████████████████████████████████████████████| 310/310 [11:21<00:00,  2.20s/it, loss=0.00807]\n",
      "  0%|                                                                                          | 0/133 [00:00<?, ?it/s]"
     ]
    },
    {
     "name": "stdout",
     "output_type": "stream",
     "text": [
      "Loss: 0.0646 | IoU: 0.6383 | dice: 0.7587 | dice_neg: nan | dice_pos: 0.7587\n",
      "Starting epoch: 10 | phase: val | ⏰: 13:26:19\n"
     ]
    },
    {
     "name": "stderr",
     "output_type": "stream",
     "text": [
      "100%|██████████████████████████████████████████████████████████████████| 133/133 [01:24<00:00,  1.57it/s, loss=0.00693]\n"
     ]
    },
    {
     "name": "stdout",
     "output_type": "stream",
     "text": [
      "Loss: 0.0554 | IoU: 0.6621 | dice: 0.7822 | dice_neg: nan | dice_pos: 0.7822\n",
      "******** New optimal found, saving state ********\n"
     ]
    },
    {
     "name": "stderr",
     "output_type": "stream",
     "text": [
      "  0%|                                                                                          | 0/310 [00:00<?, ?it/s]"
     ]
    },
    {
     "name": "stdout",
     "output_type": "stream",
     "text": [
      "\n",
      "Learning Rate =  5e-05\n",
      "Starting epoch: 11 | phase: train | ⏰: 13:27:45\n"
     ]
    },
    {
     "name": "stderr",
     "output_type": "stream",
     "text": [
      "100%|██████████████████████████████████████████████████████████████████| 310/310 [11:21<00:00,  2.20s/it, loss=0.00729]\n",
      "  0%|                                                                                          | 0/133 [00:00<?, ?it/s]"
     ]
    },
    {
     "name": "stdout",
     "output_type": "stream",
     "text": [
      "Loss: 0.0583 | IoU: 0.6489 | dice: 0.7696 | dice_neg: nan | dice_pos: 0.7696\n",
      "Starting epoch: 11 | phase: val | ⏰: 13:39:06\n"
     ]
    },
    {
     "name": "stderr",
     "output_type": "stream",
     "text": [
      "100%|██████████████████████████████████████████████████████████████████| 133/133 [01:33<00:00,  1.43it/s, loss=0.00686]\n"
     ]
    },
    {
     "name": "stdout",
     "output_type": "stream",
     "text": [
      "Loss: 0.0549 | IoU: 0.6624 | dice: 0.7829 | dice_neg: nan | dice_pos: 0.7829\n",
      "******** New optimal found, saving state ********\n"
     ]
    },
    {
     "name": "stderr",
     "output_type": "stream",
     "text": [
      "  0%|                                                                                          | 0/310 [00:00<?, ?it/s]"
     ]
    },
    {
     "name": "stdout",
     "output_type": "stream",
     "text": [
      "\n",
      "Learning Rate =  5e-05\n",
      "Starting epoch: 12 | phase: train | ⏰: 13:40:41\n"
     ]
    },
    {
     "name": "stderr",
     "output_type": "stream",
     "text": [
      "100%|██████████████████████████████████████████████████████████████████| 310/310 [11:18<00:00,  2.19s/it, loss=0.00727]\n",
      "  0%|                                                                                          | 0/133 [00:00<?, ?it/s]"
     ]
    },
    {
     "name": "stdout",
     "output_type": "stream",
     "text": [
      "Loss: 0.0581 | IoU: 0.6529 | dice: 0.7720 | dice_neg: nan | dice_pos: 0.7720\n",
      "Starting epoch: 12 | phase: val | ⏰: 13:51:59\n"
     ]
    },
    {
     "name": "stderr",
     "output_type": "stream",
     "text": [
      "100%|██████████████████████████████████████████████████████████████████| 133/133 [01:07<00:00,  1.96it/s, loss=0.00687]\n",
      "  0%|                                                                                          | 0/310 [00:00<?, ?it/s]"
     ]
    },
    {
     "name": "stdout",
     "output_type": "stream",
     "text": [
      "Loss: 0.0549 | IoU: 0.6605 | dice: 0.7808 | dice_neg: nan | dice_pos: 0.7808\n",
      "\n",
      "Learning Rate =  5e-05\n",
      "Starting epoch: 13 | phase: train | ⏰: 13:53:07\n"
     ]
    },
    {
     "name": "stderr",
     "output_type": "stream",
     "text": [
      "100%|██████████████████████████████████████████████████████████████████| 310/310 [11:17<00:00,  2.18s/it, loss=0.00716]\n",
      "  0%|                                                                                          | 0/133 [00:00<?, ?it/s]"
     ]
    },
    {
     "name": "stdout",
     "output_type": "stream",
     "text": [
      "Loss: 0.0573 | IoU: 0.6557 | dice: 0.7752 | dice_neg: nan | dice_pos: 0.7752\n",
      "Starting epoch: 13 | phase: val | ⏰: 14:04:25\n"
     ]
    },
    {
     "name": "stderr",
     "output_type": "stream",
     "text": [
      "100%|██████████████████████████████████████████████████████████████████| 133/133 [01:26<00:00,  1.53it/s, loss=0.00684]\n",
      "  0%|                                                                                          | 0/310 [00:00<?, ?it/s]"
     ]
    },
    {
     "name": "stdout",
     "output_type": "stream",
     "text": [
      "Loss: 0.0547 | IoU: 0.6600 | dice: 0.7804 | dice_neg: nan | dice_pos: 0.7804\n",
      "\n",
      "Learning Rate =  5e-05\n",
      "Starting epoch: 14 | phase: train | ⏰: 14:05:51\n"
     ]
    },
    {
     "name": "stderr",
     "output_type": "stream",
     "text": [
      "100%|██████████████████████████████████████████████████████████████████| 310/310 [11:17<00:00,  2.18s/it, loss=0.00715]\n",
      "  0%|                                                                                          | 0/133 [00:00<?, ?it/s]"
     ]
    },
    {
     "name": "stdout",
     "output_type": "stream",
     "text": [
      "Loss: 0.0572 | IoU: 0.6593 | dice: 0.7785 | dice_neg: nan | dice_pos: 0.7785\n",
      "Starting epoch: 14 | phase: val | ⏰: 14:17:09\n"
     ]
    },
    {
     "name": "stderr",
     "output_type": "stream",
     "text": [
      "100%|██████████████████████████████████████████████████████████████████| 133/133 [01:23<00:00,  1.58it/s, loss=0.00675]\n"
     ]
    },
    {
     "name": "stdout",
     "output_type": "stream",
     "text": [
      "Loss: 0.0540 | IoU: 0.6715 | dice: 0.7897 | dice_neg: nan | dice_pos: 0.7897\n",
      "******** New optimal found, saving state ********\n"
     ]
    },
    {
     "name": "stderr",
     "output_type": "stream",
     "text": [
      "  0%|                                                                                          | 0/310 [00:00<?, ?it/s]"
     ]
    },
    {
     "name": "stdout",
     "output_type": "stream",
     "text": [
      "\n",
      "Learning Rate =  5e-05\n",
      "Starting epoch: 15 | phase: train | ⏰: 14:18:35\n"
     ]
    },
    {
     "name": "stderr",
     "output_type": "stream",
     "text": [
      "100%|██████████████████████████████████████████████████████████████████| 310/310 [11:17<00:00,  2.19s/it, loss=0.00699]\n",
      "  0%|                                                                                          | 0/133 [00:00<?, ?it/s]"
     ]
    },
    {
     "name": "stdout",
     "output_type": "stream",
     "text": [
      "Loss: 0.0559 | IoU: 0.6623 | dice: 0.7806 | dice_neg: nan | dice_pos: 0.7806\n",
      "Starting epoch: 15 | phase: val | ⏰: 14:29:53\n"
     ]
    },
    {
     "name": "stderr",
     "output_type": "stream",
     "text": [
      "100%|██████████████████████████████████████████████████████████████████| 133/133 [01:25<00:00,  1.55it/s, loss=0.00694]\n",
      "  0%|                                                                                          | 0/310 [00:00<?, ?it/s]"
     ]
    },
    {
     "name": "stdout",
     "output_type": "stream",
     "text": [
      "Loss: 0.0555 | IoU: 0.6656 | dice: 0.7844 | dice_neg: nan | dice_pos: 0.7844\n",
      "\n",
      "Learning Rate =  5e-05\n",
      "Starting epoch: 16 | phase: train | ⏰: 14:31:18\n"
     ]
    },
    {
     "name": "stderr",
     "output_type": "stream",
     "text": [
      "100%|██████████████████████████████████████████████████████████████████| 310/310 [11:17<00:00,  2.19s/it, loss=0.00689]\n",
      "  0%|                                                                                          | 0/133 [00:00<?, ?it/s]"
     ]
    },
    {
     "name": "stdout",
     "output_type": "stream",
     "text": [
      "Loss: 0.0552 | IoU: 0.6659 | dice: 0.7842 | dice_neg: nan | dice_pos: 0.7842\n",
      "Starting epoch: 16 | phase: val | ⏰: 14:42:36\n"
     ]
    },
    {
     "name": "stderr",
     "output_type": "stream",
     "text": [
      "100%|██████████████████████████████████████████████████████████████████| 133/133 [01:26<00:00,  1.53it/s, loss=0.00686]\n"
     ]
    },
    {
     "name": "stdout",
     "output_type": "stream",
     "text": [
      "Loss: 0.0549 | IoU: 0.6729 | dice: 0.7904 | dice_neg: nan | dice_pos: 0.7904\n",
      "******** New optimal found, saving state ********\n"
     ]
    },
    {
     "name": "stderr",
     "output_type": "stream",
     "text": [
      "  0%|                                                                                          | 0/310 [00:00<?, ?it/s]"
     ]
    },
    {
     "name": "stdout",
     "output_type": "stream",
     "text": [
      "\n",
      "Learning Rate =  5e-05\n",
      "Starting epoch: 17 | phase: train | ⏰: 14:44:07\n"
     ]
    },
    {
     "name": "stderr",
     "output_type": "stream",
     "text": [
      "100%|███████████████████████████████████████████████████████████████████| 310/310 [11:19<00:00,  2.19s/it, loss=0.0068]\n",
      "  0%|                                                                                          | 0/133 [00:00<?, ?it/s]"
     ]
    },
    {
     "name": "stdout",
     "output_type": "stream",
     "text": [
      "Loss: 0.0544 | IoU: 0.6689 | dice: 0.7860 | dice_neg: nan | dice_pos: 0.7860\n",
      "Starting epoch: 17 | phase: val | ⏰: 14:55:27\n"
     ]
    },
    {
     "name": "stderr",
     "output_type": "stream",
     "text": [
      "100%|██████████████████████████████████████████████████████████████████| 133/133 [01:23<00:00,  1.59it/s, loss=0.00686]\n",
      "  0%|                                                                                          | 0/310 [00:00<?, ?it/s]"
     ]
    },
    {
     "name": "stdout",
     "output_type": "stream",
     "text": [
      "Loss: 0.0549 | IoU: 0.6747 | dice: 0.7902 | dice_neg: nan | dice_pos: 0.7902\n",
      "\n",
      "Learning Rate =  5e-05\n",
      "Starting epoch: 18 | phase: train | ⏰: 14:56:50\n"
     ]
    },
    {
     "name": "stderr",
     "output_type": "stream",
     "text": [
      "100%|██████████████████████████████████████████████████████████████████| 310/310 [11:16<00:00,  2.18s/it, loss=0.00699]\n",
      "  0%|                                                                                          | 0/133 [00:00<?, ?it/s]"
     ]
    },
    {
     "name": "stdout",
     "output_type": "stream",
     "text": [
      "Loss: 0.0559 | IoU: 0.6650 | dice: 0.7823 | dice_neg: nan | dice_pos: 0.7823\n",
      "Starting epoch: 18 | phase: val | ⏰: 15:08:07\n"
     ]
    },
    {
     "name": "stderr",
     "output_type": "stream",
     "text": [
      "100%|██████████████████████████████████████████████████████████████████| 133/133 [01:23<00:00,  1.60it/s, loss=0.00691]\n",
      "  0%|                                                                                          | 0/310 [00:00<?, ?it/s]"
     ]
    },
    {
     "name": "stdout",
     "output_type": "stream",
     "text": [
      "Loss: 0.0553 | IoU: 0.6594 | dice: 0.7799 | dice_neg: nan | dice_pos: 0.7799\n",
      "\n",
      "Learning Rate =  5e-05\n",
      "Starting epoch: 19 | phase: train | ⏰: 15:09:30\n"
     ]
    },
    {
     "name": "stderr",
     "output_type": "stream",
     "text": [
      "100%|██████████████████████████████████████████████████████████████████| 310/310 [11:16<00:00,  2.18s/it, loss=0.00685]\n",
      "  0%|                                                                                          | 0/133 [00:00<?, ?it/s]"
     ]
    },
    {
     "name": "stdout",
     "output_type": "stream",
     "text": [
      "Loss: 0.0548 | IoU: 0.6728 | dice: 0.7898 | dice_neg: nan | dice_pos: 0.7898\n",
      "Starting epoch: 19 | phase: val | ⏰: 15:20:47\n"
     ]
    },
    {
     "name": "stderr",
     "output_type": "stream",
     "text": [
      "100%|██████████████████████████████████████████████████████████████████| 133/133 [01:24<00:00,  1.58it/s, loss=0.00691]"
     ]
    },
    {
     "name": "stdout",
     "output_type": "stream",
     "text": [
      "Loss: 0.0553 | IoU: 0.6633 | dice: 0.7812 | dice_neg: nan | dice_pos: 0.7812\n",
      "\n"
     ]
    },
    {
     "name": "stderr",
     "output_type": "stream",
     "text": [
      "\n"
     ]
    }
   ],
   "source": [
    "model_trainer = Trainer(model, lr, epochs, path)\n",
    "print(f\"Current Device is GPU: {torch.cuda.current_device()}\")\n",
    "print(f\"Total memory allocated in GB: {round(torch.cuda.memory_allocated(0)/1024**3,1)}\")\n",
    "print(f\"Total memory cached in GB: {round(torch.cuda.memory_reserved(0)/1024**3,1)}\")\n",
    "model_trainer.start()"
   ]
  },
  {
   "cell_type": "markdown",
   "id": "ec46db95",
   "metadata": {},
   "source": [
    "After the model training was done the loss, dice_scores and iou_scores were plotted. "
   ]
  },
  {
   "cell_type": "code",
   "execution_count": 6,
   "id": "75baafda",
   "metadata": {},
   "outputs": [
    {
     "data": {
      "image/png": "[encoded data removed]",
      "text/plain": [
       "<Figure size 1080x360 with 1 Axes>"
      ]
     },
     "metadata": {
      "needs_background": "light"
     },
     "output_type": "display_data"
    },
    {
     "data": {
      "image/png": "[encoded data removed]",
      "text/plain": [
       "<Figure size 1080x360 with 1 Axes>"
      ]
     },
     "metadata": {
      "needs_background": "light"
     },
     "output_type": "display_data"
    },
    {
     "data": {
      "image/png": "[encoded data removed]",
      "text/plain": [
       "<Figure size 1080x360 with 1 Axes>"
      ]
     },
     "metadata": {
      "needs_background": "light"
     },
     "output_type": "display_data"
    }
   ],
   "source": [
    "losses = model_trainer.losses\n",
    "dice_scores = model_trainer.dice_scores # overall dice\n",
    "iou_scores = model_trainer.iou_scores\n",
    "\n",
    "def plot(scores, name):\n",
    "    plt.figure(figsize=(15,5))\n",
    "    plt.plot(range(len(scores[\"train\"])), scores[\"train\"], label=f'train {name}')\n",
    "    plt.plot(range(len(scores[\"train\"])), scores[\"val\"], label=f'val {name}')\n",
    "    plt.title(f'{name} plot'); plt.xlabel('Epoch'); plt.ylabel(f'{name}');\n",
    "    plt.legend(); \n",
    "    plt.show()\n",
    "\n",
    "plot(losses, \"BCE loss\")\n",
    "plot(dice_scores, \"Dice score\")\n",
    "plot(iou_scores, \"IoU score\")"
   ]
  },
  {
   "cell_type": "markdown",
   "id": "a958bb96",
   "metadata": {},
   "source": [
    "The above results the overall training and validation dice and IoU goes up with epochs and training and validation loss goes down with epochs."
   ]
  },
  {
   "cell_type": "markdown",
   "id": "4e5f9cad",
   "metadata": {},
   "source": [
    "# Convert to ONNX\n",
    "\n",
    "Lastly the trained model is converted to ONNX format using the Utility script ONNX_Converter.py."
   ]
  },
  {
   "cell_type": "code",
   "execution_count": 7,
   "id": "edc7a53d",
   "metadata": {},
   "outputs": [
    {
     "name": "stdout",
     "output_type": "stream",
     "text": [
      "Model name :FPN\n",
      "Model checkpoint path is :./Models/model_fpn_inceptionv4.pth\n",
      "Model output path is :./ONNX_models/fpn_inceptionv3.onnx\n",
      "Successfully converted the model to onnx format.\n"
     ]
    }
   ],
   "source": [
    "! python ./Utilities/ONNX_converter.py FPN inceptionv4  imagenet  6 ./Models/model_fpn_inceptionv4.pth ./ONNX_models/fpn_inceptionv3.onnx"
   ]
  },
  {
   "cell_type": "code",
   "execution_count": null,
   "id": "95ae9325",
   "metadata": {},
   "outputs": [],
   "source": []
  }
 ],
 "metadata": {
  "kernelspec": {
   "display_name": "Python 3",
   "language": "python",
   "name": "python3"
  },
  "language_info": {
   "codemirror_mode": {
    "name": "ipython",
    "version": 3
   },
   "file_extension": ".py",
   "mimetype": "text/x-python",
   "name": "python",
   "nbconvert_exporter": "python",
   "pygments_lexer": "ipython3",
   "version": "3.7.10"
  }
 },
 "nbformat": 4,
 "nbformat_minor": 5
}
