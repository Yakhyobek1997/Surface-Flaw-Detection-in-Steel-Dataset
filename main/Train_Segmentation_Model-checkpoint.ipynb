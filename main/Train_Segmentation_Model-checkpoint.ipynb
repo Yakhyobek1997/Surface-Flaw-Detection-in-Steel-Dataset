{
 "cells": [
  {
   "cell_type": "markdown",
   "id": "4622e7f9",
   "metadata": {},
   "source": [
    "# IMPORTS\n",
    "\n",
    "First we started with some python imports. The utility scripts Renet_Unet and Trainer were also included."
   ]
  },
  {
   "cell_type": "code",
   "execution_count": 1,
   "id": "55af29b6",
   "metadata": {},
   "outputs": [],
   "source": [
    "import pandas as pd\n",
    "import numpy as np\n",
    "from Utilities.Resnet_UNet import ResNetUNet\n",
    "from Utilities.Trainer import Trainer\n",
    "import torch\n",
    "import torch.nn as nn\n",
    "from torchvision import models\n",
    "import torch.multiprocessing as mp\n",
    "import matplotlib.pyplot as plt\n",
    "%matplotlib inline"
   ]
  },
  {
   "cell_type": "markdown",
   "id": "27c68fab",
   "metadata": {},
   "source": [
    "The below statement helps in better error tracking when training is done in cuda. More details about this can be found in the below url:-\n",
    "\n",
    "https://pytorch.org/docs/stable/notes/cuda.html"
   ]
  },
  {
   "cell_type": "code",
   "execution_count": 2,
   "id": "f9862a97",
   "metadata": {},
   "outputs": [],
   "source": [
    "CUDA_LAUNCH_BLOCKING=\"1\""
   ]
  },
  {
   "cell_type": "markdown",
   "id": "47cf27ae",
   "metadata": {},
   "source": [
    "# Model Building\n",
    "\n",
    "Next a Unet model with Resnet18 enoder was created using the ResNetUnet class of the ultility script Resnet_Unet.py"
   ]
  },
  {
   "cell_type": "code",
   "execution_count": 3,
   "id": "a153f300",
   "metadata": {
    "scrolled": false
   },
   "outputs": [
    {
     "name": "stdout",
     "output_type": "stream",
     "text": [
      "ResNetUNet(\n",
      "  (base_model): ResNet(\n",
      "    (conv1): Conv2d(3, 64, kernel_size=(7, 7), stride=(2, 2), padding=(3, 3), bias=False)\n",
      "    (bn1): BatchNorm2d(64, eps=1e-05, momentum=0.1, affine=True, track_running_stats=True)\n",
      "    (relu): ReLU(inplace=True)\n",
      "    (maxpool): MaxPool2d(kernel_size=3, stride=2, padding=1, dilation=1, ceil_mode=False)\n",
      "    (layer1): Sequential(\n",
      "      (0): BasicBlock(\n",
      "        (conv1): Conv2d(64, 64, kernel_size=(3, 3), stride=(1, 1), padding=(1, 1), bias=False)\n",
      "        (bn1): BatchNorm2d(64, eps=1e-05, momentum=0.1, affine=True, track_running_stats=True)\n",
      "        (relu): ReLU(inplace=True)\n",
      "        (conv2): Conv2d(64, 64, kernel_size=(3, 3), stride=(1, 1), padding=(1, 1), bias=False)\n",
      "        (bn2): BatchNorm2d(64, eps=1e-05, momentum=0.1, affine=True, track_running_stats=True)\n",
      "      )\n",
      "      (1): BasicBlock(\n",
      "        (conv1): Conv2d(64, 64, kernel_size=(3, 3), stride=(1, 1), padding=(1, 1), bias=False)\n",
      "        (bn1): BatchNorm2d(64, eps=1e-05, momentum=0.1, affine=True, track_running_stats=True)\n",
      "        (relu): ReLU(inplace=True)\n",
      "        (conv2): Conv2d(64, 64, kernel_size=(3, 3), stride=(1, 1), padding=(1, 1), bias=False)\n",
      "        (bn2): BatchNorm2d(64, eps=1e-05, momentum=0.1, affine=True, track_running_stats=True)\n",
      "      )\n",
      "    )\n",
      "    (layer2): Sequential(\n",
      "      (0): BasicBlock(\n",
      "        (conv1): Conv2d(64, 128, kernel_size=(3, 3), stride=(2, 2), padding=(1, 1), bias=False)\n",
      "        (bn1): BatchNorm2d(128, eps=1e-05, momentum=0.1, affine=True, track_running_stats=True)\n",
      "        (relu): ReLU(inplace=True)\n",
      "        (conv2): Conv2d(128, 128, kernel_size=(3, 3), stride=(1, 1), padding=(1, 1), bias=False)\n",
      "        (bn2): BatchNorm2d(128, eps=1e-05, momentum=0.1, affine=True, track_running_stats=True)\n",
      "        (downsample): Sequential(\n",
      "          (0): Conv2d(64, 128, kernel_size=(1, 1), stride=(2, 2), bias=False)\n",
      "          (1): BatchNorm2d(128, eps=1e-05, momentum=0.1, affine=True, track_running_stats=True)\n",
      "        )\n",
      "      )\n",
      "      (1): BasicBlock(\n",
      "        (conv1): Conv2d(128, 128, kernel_size=(3, 3), stride=(1, 1), padding=(1, 1), bias=False)\n",
      "        (bn1): BatchNorm2d(128, eps=1e-05, momentum=0.1, affine=True, track_running_stats=True)\n",
      "        (relu): ReLU(inplace=True)\n",
      "        (conv2): Conv2d(128, 128, kernel_size=(3, 3), stride=(1, 1), padding=(1, 1), bias=False)\n",
      "        (bn2): BatchNorm2d(128, eps=1e-05, momentum=0.1, affine=True, track_running_stats=True)\n",
      "      )\n",
      "    )\n",
      "    (layer3): Sequential(\n",
      "      (0): BasicBlock(\n",
      "        (conv1): Conv2d(128, 256, kernel_size=(3, 3), stride=(2, 2), padding=(1, 1), bias=False)\n",
      "        (bn1): BatchNorm2d(256, eps=1e-05, momentum=0.1, affine=True, track_running_stats=True)\n",
      "        (relu): ReLU(inplace=True)\n",
      "        (conv2): Conv2d(256, 256, kernel_size=(3, 3), stride=(1, 1), padding=(1, 1), bias=False)\n",
      "        (bn2): BatchNorm2d(256, eps=1e-05, momentum=0.1, affine=True, track_running_stats=True)\n",
      "        (downsample): Sequential(\n",
      "          (0): Conv2d(128, 256, kernel_size=(1, 1), stride=(2, 2), bias=False)\n",
      "          (1): BatchNorm2d(256, eps=1e-05, momentum=0.1, affine=True, track_running_stats=True)\n",
      "        )\n",
      "      )\n",
      "      (1): BasicBlock(\n",
      "        (conv1): Conv2d(256, 256, kernel_size=(3, 3), stride=(1, 1), padding=(1, 1), bias=False)\n",
      "        (bn1): BatchNorm2d(256, eps=1e-05, momentum=0.1, affine=True, track_running_stats=True)\n",
      "        (relu): ReLU(inplace=True)\n",
      "        (conv2): Conv2d(256, 256, kernel_size=(3, 3), stride=(1, 1), padding=(1, 1), bias=False)\n",
      "        (bn2): BatchNorm2d(256, eps=1e-05, momentum=0.1, affine=True, track_running_stats=True)\n",
      "      )\n",
      "    )\n",
      "    (layer4): Sequential(\n",
      "      (0): BasicBlock(\n",
      "        (conv1): Conv2d(256, 512, kernel_size=(3, 3), stride=(2, 2), padding=(1, 1), bias=False)\n",
      "        (bn1): BatchNorm2d(512, eps=1e-05, momentum=0.1, affine=True, track_running_stats=True)\n",
      "        (relu): ReLU(inplace=True)\n",
      "        (conv2): Conv2d(512, 512, kernel_size=(3, 3), stride=(1, 1), padding=(1, 1), bias=False)\n",
      "        (bn2): BatchNorm2d(512, eps=1e-05, momentum=0.1, affine=True, track_running_stats=True)\n",
      "        (downsample): Sequential(\n",
      "          (0): Conv2d(256, 512, kernel_size=(1, 1), stride=(2, 2), bias=False)\n",
      "          (1): BatchNorm2d(512, eps=1e-05, momentum=0.1, affine=True, track_running_stats=True)\n",
      "        )\n",
      "      )\n",
      "      (1): BasicBlock(\n",
      "        (conv1): Conv2d(512, 512, kernel_size=(3, 3), stride=(1, 1), padding=(1, 1), bias=False)\n",
      "        (bn1): BatchNorm2d(512, eps=1e-05, momentum=0.1, affine=True, track_running_stats=True)\n",
      "        (relu): ReLU(inplace=True)\n",
      "        (conv2): Conv2d(512, 512, kernel_size=(3, 3), stride=(1, 1), padding=(1, 1), bias=False)\n",
      "        (bn2): BatchNorm2d(512, eps=1e-05, momentum=0.1, affine=True, track_running_stats=True)\n",
      "      )\n",
      "    )\n",
      "    (avgpool): AdaptiveAvgPool2d(output_size=(1, 1))\n",
      "    (fc): Linear(in_features=512, out_features=1000, bias=True)\n",
      "  )\n",
      "  (layer0): Sequential(\n",
      "    (0): Conv2d(3, 64, kernel_size=(7, 7), stride=(2, 2), padding=(3, 3), bias=False)\n",
      "    (1): BatchNorm2d(64, eps=1e-05, momentum=0.1, affine=True, track_running_stats=True)\n",
      "    (2): ReLU(inplace=True)\n",
      "  )\n",
      "  (layer0_1x1): Sequential(\n",
      "    (0): Conv2d(64, 64, kernel_size=(1, 1), stride=(1, 1))\n",
      "    (1): ReLU(inplace=True)\n",
      "  )\n",
      "  (layer1): Sequential(\n",
      "    (0): MaxPool2d(kernel_size=3, stride=2, padding=1, dilation=1, ceil_mode=False)\n",
      "    (1): Sequential(\n",
      "      (0): BasicBlock(\n",
      "        (conv1): Conv2d(64, 64, kernel_size=(3, 3), stride=(1, 1), padding=(1, 1), bias=False)\n",
      "        (bn1): BatchNorm2d(64, eps=1e-05, momentum=0.1, affine=True, track_running_stats=True)\n",
      "        (relu): ReLU(inplace=True)\n",
      "        (conv2): Conv2d(64, 64, kernel_size=(3, 3), stride=(1, 1), padding=(1, 1), bias=False)\n",
      "        (bn2): BatchNorm2d(64, eps=1e-05, momentum=0.1, affine=True, track_running_stats=True)\n",
      "      )\n",
      "      (1): BasicBlock(\n",
      "        (conv1): Conv2d(64, 64, kernel_size=(3, 3), stride=(1, 1), padding=(1, 1), bias=False)\n",
      "        (bn1): BatchNorm2d(64, eps=1e-05, momentum=0.1, affine=True, track_running_stats=True)\n",
      "        (relu): ReLU(inplace=True)\n",
      "        (conv2): Conv2d(64, 64, kernel_size=(3, 3), stride=(1, 1), padding=(1, 1), bias=False)\n",
      "        (bn2): BatchNorm2d(64, eps=1e-05, momentum=0.1, affine=True, track_running_stats=True)\n",
      "      )\n",
      "    )\n",
      "  )\n",
      "  (layer1_1x1): Sequential(\n",
      "    (0): Conv2d(64, 64, kernel_size=(1, 1), stride=(1, 1))\n",
      "    (1): ReLU(inplace=True)\n",
      "  )\n",
      "  (layer2): Sequential(\n",
      "    (0): BasicBlock(\n",
      "      (conv1): Conv2d(64, 128, kernel_size=(3, 3), stride=(2, 2), padding=(1, 1), bias=False)\n",
      "      (bn1): BatchNorm2d(128, eps=1e-05, momentum=0.1, affine=True, track_running_stats=True)\n",
      "      (relu): ReLU(inplace=True)\n",
      "      (conv2): Conv2d(128, 128, kernel_size=(3, 3), stride=(1, 1), padding=(1, 1), bias=False)\n",
      "      (bn2): BatchNorm2d(128, eps=1e-05, momentum=0.1, affine=True, track_running_stats=True)\n",
      "      (downsample): Sequential(\n",
      "        (0): Conv2d(64, 128, kernel_size=(1, 1), stride=(2, 2), bias=False)\n",
      "        (1): BatchNorm2d(128, eps=1e-05, momentum=0.1, affine=True, track_running_stats=True)\n",
      "      )\n",
      "    )\n",
      "    (1): BasicBlock(\n",
      "      (conv1): Conv2d(128, 128, kernel_size=(3, 3), stride=(1, 1), padding=(1, 1), bias=False)\n",
      "      (bn1): BatchNorm2d(128, eps=1e-05, momentum=0.1, affine=True, track_running_stats=True)\n",
      "      (relu): ReLU(inplace=True)\n",
      "      (conv2): Conv2d(128, 128, kernel_size=(3, 3), stride=(1, 1), padding=(1, 1), bias=False)\n",
      "      (bn2): BatchNorm2d(128, eps=1e-05, momentum=0.1, affine=True, track_running_stats=True)\n",
      "    )\n",
      "  )\n",
      "  (layer2_1x1): Sequential(\n",
      "    (0): Conv2d(128, 128, kernel_size=(1, 1), stride=(1, 1))\n",
      "    (1): ReLU(inplace=True)\n",
      "  )\n",
      "  (layer3): Sequential(\n",
      "    (0): BasicBlock(\n",
      "      (conv1): Conv2d(128, 256, kernel_size=(3, 3), stride=(2, 2), padding=(1, 1), bias=False)\n",
      "      (bn1): BatchNorm2d(256, eps=1e-05, momentum=0.1, affine=True, track_running_stats=True)\n",
      "      (relu): ReLU(inplace=True)\n",
      "      (conv2): Conv2d(256, 256, kernel_size=(3, 3), stride=(1, 1), padding=(1, 1), bias=False)\n",
      "      (bn2): BatchNorm2d(256, eps=1e-05, momentum=0.1, affine=True, track_running_stats=True)\n",
      "      (downsample): Sequential(\n",
      "        (0): Conv2d(128, 256, kernel_size=(1, 1), stride=(2, 2), bias=False)\n",
      "        (1): BatchNorm2d(256, eps=1e-05, momentum=0.1, affine=True, track_running_stats=True)\n",
      "      )\n",
      "    )\n",
      "    (1): BasicBlock(\n",
      "      (conv1): Conv2d(256, 256, kernel_size=(3, 3), stride=(1, 1), padding=(1, 1), bias=False)\n",
      "      (bn1): BatchNorm2d(256, eps=1e-05, momentum=0.1, affine=True, track_running_stats=True)\n",
      "      (relu): ReLU(inplace=True)\n",
      "      (conv2): Conv2d(256, 256, kernel_size=(3, 3), stride=(1, 1), padding=(1, 1), bias=False)\n",
      "      (bn2): BatchNorm2d(256, eps=1e-05, momentum=0.1, affine=True, track_running_stats=True)\n",
      "    )\n",
      "  )\n",
      "  (layer3_1x1): Sequential(\n",
      "    (0): Conv2d(256, 256, kernel_size=(1, 1), stride=(1, 1))\n",
      "    (1): ReLU(inplace=True)\n",
      "  )\n",
      "  (layer4): Sequential(\n",
      "    (0): BasicBlock(\n",
      "      (conv1): Conv2d(256, 512, kernel_size=(3, 3), stride=(2, 2), padding=(1, 1), bias=False)\n",
      "      (bn1): BatchNorm2d(512, eps=1e-05, momentum=0.1, affine=True, track_running_stats=True)\n",
      "      (relu): ReLU(inplace=True)\n",
      "      (conv2): Conv2d(512, 512, kernel_size=(3, 3), stride=(1, 1), padding=(1, 1), bias=False)\n",
      "      (bn2): BatchNorm2d(512, eps=1e-05, momentum=0.1, affine=True, track_running_stats=True)\n",
      "      (downsample): Sequential(\n",
      "        (0): Conv2d(256, 512, kernel_size=(1, 1), stride=(2, 2), bias=False)\n",
      "        (1): BatchNorm2d(512, eps=1e-05, momentum=0.1, affine=True, track_running_stats=True)\n",
      "      )\n",
      "    )\n",
      "    (1): BasicBlock(\n",
      "      (conv1): Conv2d(512, 512, kernel_size=(3, 3), stride=(1, 1), padding=(1, 1), bias=False)\n",
      "      (bn1): BatchNorm2d(512, eps=1e-05, momentum=0.1, affine=True, track_running_stats=True)\n",
      "      (relu): ReLU(inplace=True)\n",
      "      (conv2): Conv2d(512, 512, kernel_size=(3, 3), stride=(1, 1), padding=(1, 1), bias=False)\n",
      "      (bn2): BatchNorm2d(512, eps=1e-05, momentum=0.1, affine=True, track_running_stats=True)\n",
      "    )\n",
      "  )\n",
      "  (layer4_1x1): Sequential(\n",
      "    (0): Conv2d(512, 512, kernel_size=(1, 1), stride=(1, 1))\n",
      "    (1): ReLU(inplace=True)\n",
      "  )\n",
      "  (upsample): Upsample(scale_factor=2.0, mode=bilinear)\n",
      "  (conv_up3): Sequential(\n",
      "    (0): Conv2d(768, 512, kernel_size=(3, 3), stride=(1, 1), padding=(1, 1))\n",
      "    (1): ReLU(inplace=True)\n",
      "  )\n",
      "  (conv_up2): Sequential(\n",
      "    (0): Conv2d(640, 256, kernel_size=(3, 3), stride=(1, 1), padding=(1, 1))\n",
      "    (1): ReLU(inplace=True)\n",
      "  )\n",
      "  (conv_up1): Sequential(\n",
      "    (0): Conv2d(320, 256, kernel_size=(3, 3), stride=(1, 1), padding=(1, 1))\n",
      "    (1): ReLU(inplace=True)\n",
      "  )\n",
      "  (conv_up0): Sequential(\n",
      "    (0): Conv2d(320, 128, kernel_size=(3, 3), stride=(1, 1), padding=(1, 1))\n",
      "    (1): ReLU(inplace=True)\n",
      "  )\n",
      "  (conv_original_size0): Sequential(\n",
      "    (0): Conv2d(3, 64, kernel_size=(3, 3), stride=(1, 1), padding=(1, 1))\n",
      "    (1): ReLU(inplace=True)\n",
      "  )\n",
      "  (conv_original_size1): Sequential(\n",
      "    (0): Conv2d(64, 64, kernel_size=(3, 3), stride=(1, 1), padding=(1, 1))\n",
      "    (1): ReLU(inplace=True)\n",
      "  )\n",
      "  (conv_original_size2): Sequential(\n",
      "    (0): Conv2d(192, 64, kernel_size=(3, 3), stride=(1, 1), padding=(1, 1))\n",
      "    (1): ReLU(inplace=True)\n",
      "  )\n",
      "  (conv_last): Conv2d(64, 6, kernel_size=(1, 1), stride=(1, 1))\n",
      ")\n"
     ]
    }
   ],
   "source": [
    "torch.manual_seed(42)\n",
    "backbone_model = models.resnet18(pretrained=True)\n",
    "model = ResNetUNet(n_class=6, base_model=backbone_model)\n",
    "print(model)"
   ]
  },
  {
   "cell_type": "markdown",
   "id": "d86d1458",
   "metadata": {},
   "source": [
    "# Model Training\n",
    "\n",
    "Next the model training was started with 20 epochs and initial learning rate as 5e-04. The model checkpoint was saved whenever the validation loss was reported the least."
   ]
  },
  {
   "cell_type": "code",
   "execution_count": 4,
   "id": "1a4ea262",
   "metadata": {},
   "outputs": [],
   "source": [
    "lr = 5e-04\n",
    "epochs = 20"
   ]
  },
  {
   "cell_type": "code",
   "execution_count": 5,
   "id": "a2b42e2e",
   "metadata": {},
   "outputs": [
    {
     "name": "stderr",
     "output_type": "stream",
     "text": [
      "C:\\Users\\SIDDHARTA\\anaconda3\\lib\\site-packages\\torch\\cuda\\memory.py:375: FutureWarning: torch.cuda.memory_cached has been renamed to torch.cuda.memory_reserved\n",
      "  FutureWarning)\n",
      "\r",
      "  0%|                                                                                          | 0/310 [00:00<?, ?it/s]"
     ]
    },
    {
     "name": "stdout",
     "output_type": "stream",
     "text": [
      "Current Device is GPU: 0\n",
      "Total memory allocated in GB: 0.1\n",
      "Total memory cached in GB: 0.1\n",
      "Learning Rate =  0.0005\n",
      "Starting epoch: 0 | phase: train | ⏰: 10:27:14\n"
     ]
    },
    {
     "name": "stderr",
     "output_type": "stream",
     "text": [
      "100%|███████████████████████████████████████████████████████████████████| 310/310 [01:55<00:00,  2.69it/s, loss=0.0342]\n",
      "C:\\Users\\SIDDHARTA\\OneDrive\\Documents\\NEU-DET\\Utilities\\Meter.py:40: RuntimeWarning: Mean of empty slice\n",
      "  dice_neg = np.nanmean(self.dice_neg_scores)\n",
      "  0%|                                                                                          | 0/133 [00:00<?, ?it/s]"
     ]
    },
    {
     "name": "stdout",
     "output_type": "stream",
     "text": [
      "Loss: 0.2733 | IoU: 0.0167 | dice: 0.0232 | dice_neg: nan | dice_pos: 0.0232\n",
      "Starting epoch: 0 | phase: val | ⏰: 10:29:09\n"
     ]
    },
    {
     "name": "stderr",
     "output_type": "stream",
     "text": [
      "100%|███████████████████████████████████████████████████████████████████| 133/133 [00:36<00:00,  3.67it/s, loss=0.0268]\n"
     ]
    },
    {
     "name": "stdout",
     "output_type": "stream",
     "text": [
      "Loss: 0.2142 | IoU: 0.0319 | dice: 0.0437 | dice_neg: nan | dice_pos: 0.0437\n",
      "******** New optimal found, saving state ********\n"
     ]
    },
    {
     "name": "stderr",
     "output_type": "stream",
     "text": [
      "\r",
      "  0%|                                                                                          | 0/310 [00:00<?, ?it/s]"
     ]
    },
    {
     "name": "stdout",
     "output_type": "stream",
     "text": [
      "\n",
      "Learning Rate =  0.0005\n",
      "Starting epoch: 1 | phase: train | ⏰: 10:29:46\n"
     ]
    },
    {
     "name": "stderr",
     "output_type": "stream",
     "text": [
      "100%|███████████████████████████████████████████████████████████████████| 310/310 [02:27<00:00,  2.11it/s, loss=0.0261]\n",
      "  0%|                                                                                          | 0/133 [00:00<?, ?it/s]"
     ]
    },
    {
     "name": "stdout",
     "output_type": "stream",
     "text": [
      "Loss: 0.2088 | IoU: 0.0506 | dice: 0.0676 | dice_neg: nan | dice_pos: 0.0676\n",
      "Starting epoch: 1 | phase: val | ⏰: 10:32:13\n"
     ]
    },
    {
     "name": "stderr",
     "output_type": "stream",
     "text": [
      "100%|████████████████████████████████████████████████████████████████████| 133/133 [00:38<00:00,  3.46it/s, loss=0.026]\n"
     ]
    },
    {
     "name": "stdout",
     "output_type": "stream",
     "text": [
      "Loss: 0.2077 | IoU: 0.0693 | dice: 0.0920 | dice_neg: nan | dice_pos: 0.0920\n",
      "******** New optimal found, saving state ********\n"
     ]
    },
    {
     "name": "stderr",
     "output_type": "stream",
     "text": [
      "\r",
      "  0%|                                                                                          | 0/310 [00:00<?, ?it/s]"
     ]
    },
    {
     "name": "stdout",
     "output_type": "stream",
     "text": [
      "\n",
      "Learning Rate =  0.0005\n",
      "Starting epoch: 2 | phase: train | ⏰: 10:32:52\n"
     ]
    },
    {
     "name": "stderr",
     "output_type": "stream",
     "text": [
      "100%|███████████████████████████████████████████████████████████████████| 310/310 [02:45<00:00,  1.88it/s, loss=0.0239]\n",
      "  0%|                                                                                          | 0/133 [00:00<?, ?it/s]"
     ]
    },
    {
     "name": "stdout",
     "output_type": "stream",
     "text": [
      "Loss: 0.1912 | IoU: 0.0848 | dice: 0.1128 | dice_neg: nan | dice_pos: 0.1128\n",
      "Starting epoch: 2 | phase: val | ⏰: 10:35:37\n"
     ]
    },
    {
     "name": "stderr",
     "output_type": "stream",
     "text": [
      "100%|█████████████████████████████████████████████████████████████████████| 133/133 [00:42<00:00,  3.11it/s, loss=0.02]\n"
     ]
    },
    {
     "name": "stdout",
     "output_type": "stream",
     "text": [
      "Loss: 0.1597 | IoU: 0.1751 | dice: 0.2163 | dice_neg: nan | dice_pos: 0.2163\n",
      "******** New optimal found, saving state ********\n"
     ]
    },
    {
     "name": "stderr",
     "output_type": "stream",
     "text": [
      "\r",
      "  0%|                                                                                          | 0/310 [00:00<?, ?it/s]"
     ]
    },
    {
     "name": "stdout",
     "output_type": "stream",
     "text": [
      "\n",
      "Learning Rate =  0.0005\n",
      "Starting epoch: 3 | phase: train | ⏰: 10:36:20\n"
     ]
    },
    {
     "name": "stderr",
     "output_type": "stream",
     "text": [
      "100%|███████████████████████████████████████████████████████████████████| 310/310 [03:00<00:00,  1.71it/s, loss=0.0206]\n",
      "  0%|                                                                                          | 0/133 [00:00<?, ?it/s]"
     ]
    },
    {
     "name": "stdout",
     "output_type": "stream",
     "text": [
      "Loss: 0.1646 | IoU: 0.1516 | dice: 0.1890 | dice_neg: nan | dice_pos: 0.1890\n",
      "Starting epoch: 3 | phase: val | ⏰: 10:39:21\n"
     ]
    },
    {
     "name": "stderr",
     "output_type": "stream",
     "text": [
      "100%|███████████████████████████████████████████████████████████████████| 133/133 [00:50<00:00,  2.63it/s, loss=0.0187]\n"
     ]
    },
    {
     "name": "stdout",
     "output_type": "stream",
     "text": [
      "Loss: 0.1493 | IoU: 0.2203 | dice: 0.2684 | dice_neg: nan | dice_pos: 0.2684\n",
      "******** New optimal found, saving state ********\n"
     ]
    },
    {
     "name": "stderr",
     "output_type": "stream",
     "text": [
      "\r",
      "  0%|                                                                                          | 0/310 [00:00<?, ?it/s]"
     ]
    },
    {
     "name": "stdout",
     "output_type": "stream",
     "text": [
      "\n",
      "Learning Rate =  0.0005\n",
      "Starting epoch: 4 | phase: train | ⏰: 10:40:12\n"
     ]
    },
    {
     "name": "stderr",
     "output_type": "stream",
     "text": [
      "100%|███████████████████████████████████████████████████████████████████| 310/310 [03:21<00:00,  1.54it/s, loss=0.0184]\n",
      "  0%|                                                                                          | 0/133 [00:00<?, ?it/s]"
     ]
    },
    {
     "name": "stdout",
     "output_type": "stream",
     "text": [
      "Loss: 0.1470 | IoU: 0.1826 | dice: 0.2249 | dice_neg: nan | dice_pos: 0.2249\n",
      "Starting epoch: 4 | phase: val | ⏰: 10:43:33\n"
     ]
    },
    {
     "name": "stderr",
     "output_type": "stream",
     "text": [
      "100%|████████████████████████████████████████████████████████████████████| 133/133 [00:51<00:00,  2.59it/s, loss=0.016]\n"
     ]
    },
    {
     "name": "stdout",
     "output_type": "stream",
     "text": [
      "Loss: 0.1282 | IoU: 0.2370 | dice: 0.2879 | dice_neg: nan | dice_pos: 0.2879\n",
      "******** New optimal found, saving state ********\n"
     ]
    },
    {
     "name": "stderr",
     "output_type": "stream",
     "text": [
      "\r",
      "  0%|                                                                                          | 0/310 [00:00<?, ?it/s]"
     ]
    },
    {
     "name": "stdout",
     "output_type": "stream",
     "text": [
      "\n",
      "Learning Rate =  0.0005\n",
      "Starting epoch: 5 | phase: train | ⏰: 10:44:24\n"
     ]
    },
    {
     "name": "stderr",
     "output_type": "stream",
     "text": [
      "100%|███████████████████████████████████████████████████████████████████| 310/310 [03:29<00:00,  1.48it/s, loss=0.0167]\n",
      "  0%|                                                                                          | 0/133 [00:00<?, ?it/s]"
     ]
    },
    {
     "name": "stdout",
     "output_type": "stream",
     "text": [
      "Loss: 0.1337 | IoU: 0.2339 | dice: 0.2949 | dice_neg: nan | dice_pos: 0.2949\n",
      "Starting epoch: 5 | phase: val | ⏰: 10:47:54\n"
     ]
    },
    {
     "name": "stderr",
     "output_type": "stream",
     "text": [
      "100%|███████████████████████████████████████████████████████████████████| 133/133 [01:02<00:00,  2.12it/s, loss=0.0141]\n"
     ]
    },
    {
     "name": "stdout",
     "output_type": "stream",
     "text": [
      "Loss: 0.1127 | IoU: 0.3187 | dice: 0.4061 | dice_neg: nan | dice_pos: 0.4061\n",
      "******** New optimal found, saving state ********\n"
     ]
    },
    {
     "name": "stderr",
     "output_type": "stream",
     "text": [
      "\r",
      "  0%|                                                                                          | 0/310 [00:00<?, ?it/s]"
     ]
    },
    {
     "name": "stdout",
     "output_type": "stream",
     "text": [
      "\n",
      "Learning Rate =  0.0005\n",
      "Starting epoch: 6 | phase: train | ⏰: 10:48:57\n"
     ]
    },
    {
     "name": "stderr",
     "output_type": "stream",
     "text": [
      "100%|███████████████████████████████████████████████████████████████████| 310/310 [03:43<00:00,  1.39it/s, loss=0.0142]\n",
      "  0%|                                                                                          | 0/133 [00:00<?, ?it/s]"
     ]
    },
    {
     "name": "stdout",
     "output_type": "stream",
     "text": [
      "Loss: 0.1133 | IoU: 0.3309 | dice: 0.4166 | dice_neg: nan | dice_pos: 0.4166\n",
      "Starting epoch: 6 | phase: val | ⏰: 10:52:40\n"
     ]
    },
    {
     "name": "stderr",
     "output_type": "stream",
     "text": [
      "100%|███████████████████████████████████████████████████████████████████| 133/133 [04:12<00:00,  1.90s/it, loss=0.0106]\n"
     ]
    },
    {
     "name": "stdout",
     "output_type": "stream",
     "text": [
      "Loss: 0.0847 | IoU: 0.4430 | dice: 0.5484 | dice_neg: nan | dice_pos: 0.5484\n",
      "******** New optimal found, saving state ********\n"
     ]
    },
    {
     "name": "stderr",
     "output_type": "stream",
     "text": [
      "\r",
      "  0%|                                                                                          | 0/310 [00:00<?, ?it/s]"
     ]
    },
    {
     "name": "stdout",
     "output_type": "stream",
     "text": [
      "\n",
      "Learning Rate =  0.0005\n",
      "Starting epoch: 7 | phase: train | ⏰: 10:56:53\n"
     ]
    },
    {
     "name": "stderr",
     "output_type": "stream",
     "text": [
      "100%|███████████████████████████████████████████████████████████████████| 310/310 [02:40<00:00,  1.93it/s, loss=0.0129]\n",
      "  0%|                                                                                          | 0/133 [00:00<?, ?it/s]"
     ]
    },
    {
     "name": "stdout",
     "output_type": "stream",
     "text": [
      "Loss: 0.1035 | IoU: 0.4083 | dice: 0.5143 | dice_neg: nan | dice_pos: 0.5143\n",
      "Starting epoch: 7 | phase: val | ⏰: 10:59:34\n"
     ]
    },
    {
     "name": "stderr",
     "output_type": "stream",
     "text": [
      "100%|██████████████████████████████████████████████████████████████████| 133/133 [01:02<00:00,  2.12it/s, loss=0.00956]\n"
     ]
    },
    {
     "name": "stdout",
     "output_type": "stream",
     "text": [
      "Loss: 0.0765 | IoU: 0.5544 | dice: 0.6734 | dice_neg: nan | dice_pos: 0.6734\n",
      "******** New optimal found, saving state ********\n"
     ]
    },
    {
     "name": "stderr",
     "output_type": "stream",
     "text": [
      "\r",
      "  0%|                                                                                          | 0/310 [00:00<?, ?it/s]"
     ]
    },
    {
     "name": "stdout",
     "output_type": "stream",
     "text": [
      "\n",
      "Learning Rate =  0.0005\n",
      "Starting epoch: 8 | phase: train | ⏰: 11:00:36\n"
     ]
    },
    {
     "name": "stderr",
     "output_type": "stream",
     "text": [
      "100%|███████████████████████████████████████████████████████████████████| 310/310 [04:24<00:00,  1.17it/s, loss=0.0114]\n",
      "  0%|                                                                                          | 0/133 [00:00<?, ?it/s]"
     ]
    },
    {
     "name": "stdout",
     "output_type": "stream",
     "text": [
      "Loss: 0.0908 | IoU: 0.4913 | dice: 0.6124 | dice_neg: nan | dice_pos: 0.6124\n",
      "Starting epoch: 8 | phase: val | ⏰: 11:05:01\n"
     ]
    },
    {
     "name": "stderr",
     "output_type": "stream",
     "text": [
      "100%|████████████████████████████████████████████████████████████████████| 133/133 [01:06<00:00,  2.00it/s, loss=0.011]\n",
      "  0%|                                                                                          | 0/310 [00:00<?, ?it/s]"
     ]
    },
    {
     "name": "stdout",
     "output_type": "stream",
     "text": [
      "Loss: 0.0882 | IoU: 0.5485 | dice: 0.6678 | dice_neg: nan | dice_pos: 0.6678\n",
      "\n",
      "Learning Rate =  0.0005\n",
      "Starting epoch: 9 | phase: train | ⏰: 11:06:08\n"
     ]
    },
    {
     "name": "stderr",
     "output_type": "stream",
     "text": [
      "100%|████████████████████████████████████████████████████████████████████| 310/310 [07:36<00:00,  1.47s/it, loss=0.011]\n",
      "  0%|                                                                                          | 0/133 [00:00<?, ?it/s]"
     ]
    },
    {
     "name": "stdout",
     "output_type": "stream",
     "text": [
      "Loss: 0.0882 | IoU: 0.5043 | dice: 0.6264 | dice_neg: nan | dice_pos: 0.6264\n",
      "Starting epoch: 9 | phase: val | ⏰: 11:13:44\n"
     ]
    },
    {
     "name": "stderr",
     "output_type": "stream",
     "text": [
      "100%|█████████████████████████████████████████████████████████████████████| 133/133 [00:47<00:00,  2.80it/s, loss=0.01]\n",
      "  0%|                                                                                          | 0/310 [00:00<?, ?it/s]"
     ]
    },
    {
     "name": "stdout",
     "output_type": "stream",
     "text": [
      "Loss: 0.0800 | IoU: 0.5414 | dice: 0.6581 | dice_neg: nan | dice_pos: 0.6581\n",
      "\n",
      "Learning Rate =  0.0005\n",
      "Starting epoch: 10 | phase: train | ⏰: 11:14:32\n"
     ]
    },
    {
     "name": "stderr",
     "output_type": "stream",
     "text": [
      "100%|███████████████████████████████████████████████████████████████████| 310/310 [03:27<00:00,  1.49it/s, loss=0.0108]\n",
      "  0%|                                                                                          | 0/133 [00:00<?, ?it/s]"
     ]
    },
    {
     "name": "stdout",
     "output_type": "stream",
     "text": [
      "Loss: 0.0861 | IoU: 0.5160 | dice: 0.6428 | dice_neg: nan | dice_pos: 0.6428\n",
      "Starting epoch: 10 | phase: val | ⏰: 11:17:59\n"
     ]
    },
    {
     "name": "stderr",
     "output_type": "stream",
     "text": [
      "100%|███████████████████████████████████████████████████████████████████| 133/133 [01:04<00:00,  2.05it/s, loss=0.0101]\n",
      "  0%|                                                                                          | 0/310 [00:00<?, ?it/s]"
     ]
    },
    {
     "name": "stdout",
     "output_type": "stream",
     "text": [
      "Loss: 0.0811 | IoU: 0.5133 | dice: 0.6380 | dice_neg: nan | dice_pos: 0.6380\n",
      "\n",
      "Learning Rate =  0.0005\n",
      "Starting epoch: 11 | phase: train | ⏰: 11:19:04\n"
     ]
    },
    {
     "name": "stderr",
     "output_type": "stream",
     "text": [
      "100%|████████████████████████████████████████████████████████████████████| 310/310 [04:08<00:00,  1.25it/s, loss=0.011]\n",
      "  0%|                                                                                          | 0/133 [00:00<?, ?it/s]"
     ]
    },
    {
     "name": "stdout",
     "output_type": "stream",
     "text": [
      "Loss: 0.0884 | IoU: 0.5163 | dice: 0.6420 | dice_neg: nan | dice_pos: 0.6420\n",
      "Starting epoch: 11 | phase: val | ⏰: 11:23:12\n"
     ]
    },
    {
     "name": "stderr",
     "output_type": "stream",
     "text": [
      "100%|██████████████████████████████████████████████████████████████████| 133/133 [01:16<00:00,  1.73it/s, loss=0.00924]\n"
     ]
    },
    {
     "name": "stdout",
     "output_type": "stream",
     "text": [
      "Loss: 0.0740 | IoU: 0.5962 | dice: 0.7261 | dice_neg: nan | dice_pos: 0.7261\n",
      "******** New optimal found, saving state ********\n"
     ]
    },
    {
     "name": "stderr",
     "output_type": "stream",
     "text": [
      "\r",
      "  0%|                                                                                          | 0/310 [00:00<?, ?it/s]"
     ]
    },
    {
     "name": "stdout",
     "output_type": "stream",
     "text": [
      "\n",
      "Learning Rate =  0.0005\n",
      "Starting epoch: 12 | phase: train | ⏰: 11:24:29\n"
     ]
    },
    {
     "name": "stderr",
     "output_type": "stream",
     "text": [
      "100%|███████████████████████████████████████████████████████████████████| 310/310 [04:22<00:00,  1.18it/s, loss=0.0102]\n",
      "  0%|                                                                                          | 0/133 [00:00<?, ?it/s]"
     ]
    },
    {
     "name": "stdout",
     "output_type": "stream",
     "text": [
      "Loss: 0.0817 | IoU: 0.5412 | dice: 0.6674 | dice_neg: nan | dice_pos: 0.6674\n",
      "Starting epoch: 12 | phase: val | ⏰: 11:28:51\n"
     ]
    },
    {
     "name": "stderr",
     "output_type": "stream",
     "text": [
      "100%|██████████████████████████████████████████████████████████████████| 133/133 [01:02<00:00,  2.11it/s, loss=0.00951]\n",
      "  0%|                                                                                          | 0/310 [00:00<?, ?it/s]"
     ]
    },
    {
     "name": "stdout",
     "output_type": "stream",
     "text": [
      "Loss: 0.0761 | IoU: 0.5925 | dice: 0.7171 | dice_neg: nan | dice_pos: 0.7171\n",
      "\n",
      "Learning Rate =  0.0005\n",
      "Starting epoch: 13 | phase: train | ⏰: 11:29:54\n"
     ]
    },
    {
     "name": "stderr",
     "output_type": "stream",
     "text": [
      "100%|██████████████████████████████████████████████████████████████████| 310/310 [03:38<00:00,  1.42it/s, loss=0.00964]\n",
      "  0%|                                                                                          | 0/133 [00:00<?, ?it/s]"
     ]
    },
    {
     "name": "stdout",
     "output_type": "stream",
     "text": [
      "Loss: 0.0772 | IoU: 0.5659 | dice: 0.6947 | dice_neg: nan | dice_pos: 0.6947\n",
      "Starting epoch: 13 | phase: val | ⏰: 11:33:33\n"
     ]
    },
    {
     "name": "stderr",
     "output_type": "stream",
     "text": [
      "100%|██████████████████████████████████████████████████████████████████| 133/133 [01:02<00:00,  2.11it/s, loss=0.00891]\n"
     ]
    },
    {
     "name": "stdout",
     "output_type": "stream",
     "text": [
      "Loss: 0.0712 | IoU: 0.5528 | dice: 0.6779 | dice_neg: nan | dice_pos: 0.6779\n",
      "******** New optimal found, saving state ********\n"
     ]
    },
    {
     "name": "stderr",
     "output_type": "stream",
     "text": [
      "\r",
      "  0%|                                                                                          | 0/310 [00:00<?, ?it/s]"
     ]
    },
    {
     "name": "stdout",
     "output_type": "stream",
     "text": [
      "\n",
      "Learning Rate =  0.0005\n",
      "Starting epoch: 14 | phase: train | ⏰: 11:34:37\n"
     ]
    },
    {
     "name": "stderr",
     "output_type": "stream",
     "text": [
      "100%|██████████████████████████████████████████████████████████████████| 310/310 [04:29<00:00,  1.15it/s, loss=0.00958]\n",
      "  0%|                                                                                          | 0/133 [00:00<?, ?it/s]"
     ]
    },
    {
     "name": "stdout",
     "output_type": "stream",
     "text": [
      "Loss: 0.0767 | IoU: 0.5674 | dice: 0.6959 | dice_neg: nan | dice_pos: 0.6959\n",
      "Starting epoch: 14 | phase: val | ⏰: 11:39:06\n"
     ]
    },
    {
     "name": "stderr",
     "output_type": "stream",
     "text": [
      "100%|██████████████████████████████████████████████████████████████████| 133/133 [01:27<00:00,  1.52it/s, loss=0.00948]\n",
      "  0%|                                                                                          | 0/310 [00:00<?, ?it/s]"
     ]
    },
    {
     "name": "stdout",
     "output_type": "stream",
     "text": [
      "Loss: 0.0759 | IoU: 0.5366 | dice: 0.6569 | dice_neg: nan | dice_pos: 0.6569\n",
      "\n",
      "Learning Rate =  0.0005\n",
      "Starting epoch: 15 | phase: train | ⏰: 11:40:34\n"
     ]
    },
    {
     "name": "stderr",
     "output_type": "stream",
     "text": [
      "100%|██████████████████████████████████████████████████████████████████| 310/310 [03:49<00:00,  1.35it/s, loss=0.00902]\n",
      "  0%|                                                                                          | 0/133 [00:00<?, ?it/s]"
     ]
    },
    {
     "name": "stdout",
     "output_type": "stream",
     "text": [
      "Loss: 0.0722 | IoU: 0.5815 | dice: 0.7091 | dice_neg: nan | dice_pos: 0.7091\n",
      "Starting epoch: 15 | phase: val | ⏰: 11:44:24\n"
     ]
    },
    {
     "name": "stderr",
     "output_type": "stream",
     "text": [
      "100%|██████████████████████████████████████████████████████████████████| 133/133 [01:08<00:00,  1.93it/s, loss=0.00859]\n"
     ]
    },
    {
     "name": "stdout",
     "output_type": "stream",
     "text": [
      "Loss: 0.0687 | IoU: 0.5806 | dice: 0.7084 | dice_neg: nan | dice_pos: 0.7084\n",
      "******** New optimal found, saving state ********\n"
     ]
    },
    {
     "name": "stderr",
     "output_type": "stream",
     "text": [
      "\r",
      "  0%|                                                                                          | 0/310 [00:00<?, ?it/s]"
     ]
    },
    {
     "name": "stdout",
     "output_type": "stream",
     "text": [
      "\n",
      "Learning Rate =  0.0005\n",
      "Starting epoch: 16 | phase: train | ⏰: 11:45:33\n"
     ]
    },
    {
     "name": "stderr",
     "output_type": "stream",
     "text": [
      "100%|██████████████████████████████████████████████████████████████████| 310/310 [04:09<00:00,  1.24it/s, loss=0.00912]\n",
      "  0%|                                                                                          | 0/133 [00:00<?, ?it/s]"
     ]
    },
    {
     "name": "stdout",
     "output_type": "stream",
     "text": [
      "Loss: 0.0730 | IoU: 0.5798 | dice: 0.7093 | dice_neg: nan | dice_pos: 0.7093\n",
      "Starting epoch: 16 | phase: val | ⏰: 11:49:42\n"
     ]
    },
    {
     "name": "stderr",
     "output_type": "stream",
     "text": [
      "100%|██████████████████████████████████████████████████████████████████| 133/133 [01:03<00:00,  2.11it/s, loss=0.00808]\n"
     ]
    },
    {
     "name": "stdout",
     "output_type": "stream",
     "text": [
      "Loss: 0.0647 | IoU: 0.6215 | dice: 0.7454 | dice_neg: nan | dice_pos: 0.7454\n",
      "******** New optimal found, saving state ********\n"
     ]
    },
    {
     "name": "stderr",
     "output_type": "stream",
     "text": [
      "\r",
      "  0%|                                                                                          | 0/310 [00:00<?, ?it/s]"
     ]
    },
    {
     "name": "stdout",
     "output_type": "stream",
     "text": [
      "\n",
      "Learning Rate =  0.0005\n",
      "Starting epoch: 17 | phase: train | ⏰: 11:50:46\n"
     ]
    },
    {
     "name": "stderr",
     "output_type": "stream",
     "text": [
      "100%|██████████████████████████████████████████████████████████████████| 310/310 [04:09<00:00,  1.24it/s, loss=0.00914]\n",
      "  0%|                                                                                          | 0/133 [00:00<?, ?it/s]"
     ]
    },
    {
     "name": "stdout",
     "output_type": "stream",
     "text": [
      "Loss: 0.0732 | IoU: 0.5858 | dice: 0.7145 | dice_neg: nan | dice_pos: 0.7145\n",
      "Starting epoch: 17 | phase: val | ⏰: 11:54:55\n"
     ]
    },
    {
     "name": "stderr",
     "output_type": "stream",
     "text": [
      "100%|██████████████████████████████████████████████████████████████████| 133/133 [01:09<00:00,  1.91it/s, loss=0.00866]\n",
      "  0%|                                                                                          | 0/310 [00:00<?, ?it/s]"
     ]
    },
    {
     "name": "stdout",
     "output_type": "stream",
     "text": [
      "Loss: 0.0693 | IoU: 0.6175 | dice: 0.7447 | dice_neg: nan | dice_pos: 0.7447\n",
      "\n",
      "Learning Rate =  0.0005\n",
      "Starting epoch: 18 | phase: train | ⏰: 11:56:05\n"
     ]
    },
    {
     "name": "stderr",
     "output_type": "stream",
     "text": [
      "100%|██████████████████████████████████████████████████████████████████| 310/310 [03:55<00:00,  1.32it/s, loss=0.00869]\n",
      "  0%|                                                                                          | 0/133 [00:00<?, ?it/s]"
     ]
    },
    {
     "name": "stdout",
     "output_type": "stream",
     "text": [
      "Loss: 0.0695 | IoU: 0.5876 | dice: 0.7130 | dice_neg: nan | dice_pos: 0.7130\n",
      "Starting epoch: 18 | phase: val | ⏰: 12:00:00\n"
     ]
    },
    {
     "name": "stderr",
     "output_type": "stream",
     "text": [
      "100%|██████████████████████████████████████████████████████████████████| 133/133 [01:02<00:00,  2.11it/s, loss=0.00957]\n",
      "  0%|                                                                                          | 0/310 [00:00<?, ?it/s]"
     ]
    },
    {
     "name": "stdout",
     "output_type": "stream",
     "text": [
      "Loss: 0.0766 | IoU: 0.5772 | dice: 0.7005 | dice_neg: nan | dice_pos: 0.7005\n",
      "\n",
      "Learning Rate =  0.0005\n",
      "Starting epoch: 19 | phase: train | ⏰: 12:01:03\n"
     ]
    },
    {
     "name": "stderr",
     "output_type": "stream",
     "text": [
      "100%|██████████████████████████████████████████████████████████████████| 310/310 [04:03<00:00,  1.27it/s, loss=0.00865]\n",
      "  0%|                                                                                          | 0/133 [00:00<?, ?it/s]"
     ]
    },
    {
     "name": "stdout",
     "output_type": "stream",
     "text": [
      "Loss: 0.0692 | IoU: 0.5917 | dice: 0.7189 | dice_neg: nan | dice_pos: 0.7189\n",
      "Starting epoch: 19 | phase: val | ⏰: 12:05:07\n"
     ]
    },
    {
     "name": "stderr",
     "output_type": "stream",
     "text": [
      "100%|██████████████████████████████████████████████████████████████████| 133/133 [01:04<00:00,  2.07it/s, loss=0.00906]\n"
     ]
    },
    {
     "name": "stdout",
     "output_type": "stream",
     "text": [
      "Loss: 0.0725 | IoU: 0.6137 | dice: 0.7332 | dice_neg: nan | dice_pos: 0.7332\n",
      "\n"
     ]
    }
   ],
   "source": [
    "model_trainer = Trainer(model, lr, epochs)\n",
    "print(f\"Current Device is GPU: {torch.cuda.current_device()}\")\n",
    "print(f\"Total memory allocated in GB: {round(torch.cuda.memory_allocated(0)/1024**3,1)}\")\n",
    "print(f\"Total memory cached in GB: {round(torch.cuda.memory_cached(0)/1024**3,1)}\")\n",
    "model_trainer.start()"
   ]
  },
  {
   "cell_type": "markdown",
   "id": "5eca18a4",
   "metadata": {},
   "source": [
    "After the model training was done the loss, dice_scores and iou_scores were plotted. "
   ]
  },
  {
   "cell_type": "code",
   "execution_count": 6,
   "id": "bf776b3a",
   "metadata": {},
   "outputs": [
    {
     "data": {
      "image/png": "[encoded data removed]",
      "text/plain": [
       "<Figure size 1080x360 with 1 Axes>"
      ]
     },
     "metadata": {
      "needs_background": "light"
     },
     "output_type": "display_data"
    },
    {
     "data": {
      "image/png": "[encoded data removed]",
      "text/plain": [
       "<Figure size 1080x360 with 1 Axes>"
      ]
     },
     "metadata": {
      "needs_background": "light"
     },
     "output_type": "display_data"
    },
    {
     "data": {
      "image/png": "[encoded data removed]",
      "text/plain": [
       "<Figure size 1080x360 with 1 Axes>"
      ]
     },
     "metadata": {
      "needs_background": "light"
     },
     "output_type": "display_data"
    }
   ],
   "source": [
    "losses = model_trainer.losses\n",
    "dice_scores = model_trainer.dice_scores # overall dice\n",
    "iou_scores = model_trainer.iou_scores\n",
    "\n",
    "def plot(scores, name):\n",
    "    plt.figure(figsize=(15,5))\n",
    "    plt.plot(range(len(scores[\"train\"])), scores[\"train\"], label=f'train {name}')\n",
    "    plt.plot(range(len(scores[\"train\"])), scores[\"val\"], label=f'val {name}')\n",
    "    plt.title(f'{name} plot'); plt.xlabel('Epoch'); plt.ylabel(f'{name}');\n",
    "    plt.legend(); \n",
    "    plt.show()\n",
    "\n",
    "plot(losses, \"BCE loss\")\n",
    "plot(dice_scores, \"Dice score\")\n",
    "plot(iou_scores, \"IoU score\")"
   ]
  },
  {
   "cell_type": "markdown",
   "id": "51922f9d",
   "metadata": {},
   "source": [
    "From the above results it can be concluded that the loss, Dice and IOU get's reaches plateau after epoch 15. So, it can be concluded that it's not worth training the model after 20 epochs."
   ]
  },
  {
   "cell_type": "markdown",
   "id": "c474c2e4",
   "metadata": {},
   "source": [
    "# Convert to ONNX\n",
    "\n",
    "Lastly the trained model is converted to ONNX format using the Utility script ONNX_Converter.py."
   ]
  },
  {
   "cell_type": "code",
   "execution_count": 7,
   "id": "e628e8d1",
   "metadata": {},
   "outputs": [
    {
     "name": "stdout",
     "output_type": "stream",
     "text": [
      "Successfully converted the model to onnx format.\n"
     ]
    }
   ],
   "source": [
    "! python ./Utilities/ONNX_converter.py ./Models/model.pth"
   ]
  },
  {
   "cell_type": "code",
   "execution_count": null,
   "id": "dd7ab598",
   "metadata": {},
   "outputs": [],
   "source": []
  }
 ],
 "metadata": {
  "kernelspec": {
   "display_name": "Python 3",
   "language": "python",
   "name": "python3"
  },
  "language_info": {
   "codemirror_mode": {
    "name": "ipython",
    "version": 3
   },
   "file_extension": ".py",
   "mimetype": "text/x-python",
   "name": "python",
   "nbconvert_exporter": "python",
   "pygments_lexer": "ipython3",
   "version": "3.7.10"
  }
 },
 "nbformat": 4,
 "nbformat_minor": 5
}
